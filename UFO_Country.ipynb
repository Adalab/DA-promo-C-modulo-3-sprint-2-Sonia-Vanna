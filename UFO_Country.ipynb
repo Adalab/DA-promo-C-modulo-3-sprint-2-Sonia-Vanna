{
 "cells": [
  {
   "cell_type": "code",
   "execution_count": 2,
   "metadata": {},
   "outputs": [],
   "source": [
    "import pandas as pd\n",
    "import numpy as np  "
   ]
  },
  {
   "cell_type": "code",
   "execution_count": 3,
   "metadata": {},
   "outputs": [],
   "source": [
    "df = pd.read_csv(\"ufo_cleaned.csv\",index_col=0)"
   ]
  },
  {
   "cell_type": "code",
   "execution_count": 4,
   "metadata": {},
   "outputs": [
    {
     "data": {
      "text/html": [
       "<div>\n",
       "<style scoped>\n",
       "    .dataframe tbody tr th:only-of-type {\n",
       "        vertical-align: middle;\n",
       "    }\n",
       "\n",
       "    .dataframe tbody tr th {\n",
       "        vertical-align: top;\n",
       "    }\n",
       "\n",
       "    .dataframe thead th {\n",
       "        text-align: right;\n",
       "    }\n",
       "</style>\n",
       "<table border=\"1\" class=\"dataframe\">\n",
       "  <thead>\n",
       "    <tr style=\"text-align: right;\">\n",
       "      <th></th>\n",
       "      <th>Reportedtimestamp</th>\n",
       "      <th>eventdate</th>\n",
       "      <th>eventtime</th>\n",
       "      <th>shape</th>\n",
       "      <th>duration</th>\n",
       "      <th>witnesses</th>\n",
       "      <th>weather</th>\n",
       "      <th>firstname</th>\n",
       "      <th>lastname</th>\n",
       "      <th>latitude</th>\n",
       "      <th>longitude</th>\n",
       "      <th>sighting</th>\n",
       "      <th>physicalevidence</th>\n",
       "      <th>contact</th>\n",
       "      <th>researchoutcome</th>\n",
       "    </tr>\n",
       "  </thead>\n",
       "  <tbody>\n",
       "    <tr>\n",
       "      <th>3257</th>\n",
       "      <td>1999-07-20T05:36:35.032Z</td>\n",
       "      <td>1999-07-16</td>\n",
       "      <td>08:31</td>\n",
       "      <td>triangle</td>\n",
       "      <td>1</td>\n",
       "      <td>2</td>\n",
       "      <td>partly cloudy</td>\n",
       "      <td>Victor</td>\n",
       "      <td>Gottlieb</td>\n",
       "      <td>34.197500</td>\n",
       "      <td>-119.176111</td>\n",
       "      <td>Y</td>\n",
       "      <td>N</td>\n",
       "      <td>N</td>\n",
       "      <td>explained</td>\n",
       "    </tr>\n",
       "    <tr>\n",
       "      <th>9546</th>\n",
       "      <td>1980-06-04T04:08:22.034Z</td>\n",
       "      <td>1980-06-03</td>\n",
       "      <td>22:19</td>\n",
       "      <td>disk</td>\n",
       "      <td>75</td>\n",
       "      <td>6</td>\n",
       "      <td>snow</td>\n",
       "      <td>Humberto</td>\n",
       "      <td>Boehm</td>\n",
       "      <td>4.890278</td>\n",
       "      <td>114.942222</td>\n",
       "      <td>Y</td>\n",
       "      <td>N</td>\n",
       "      <td>N</td>\n",
       "      <td>explained</td>\n",
       "    </tr>\n",
       "  </tbody>\n",
       "</table>\n",
       "</div>"
      ],
      "text/plain": [
       "             Reportedtimestamp   eventdate eventtime     shape  duration  \\\n",
       "3257  1999-07-20T05:36:35.032Z  1999-07-16     08:31  triangle         1   \n",
       "9546  1980-06-04T04:08:22.034Z  1980-06-03     22:19      disk        75   \n",
       "\n",
       "      witnesses        weather firstname  lastname   latitude   longitude  \\\n",
       "3257          2  partly cloudy    Victor  Gottlieb  34.197500 -119.176111   \n",
       "9546          6           snow  Humberto     Boehm   4.890278  114.942222   \n",
       "\n",
       "     sighting physicalevidence contact researchoutcome  \n",
       "3257        Y                N       N       explained  \n",
       "9546        Y                N       N       explained  "
      ]
     },
     "execution_count": 4,
     "metadata": {},
     "output_type": "execute_result"
    }
   ],
   "source": [
    "df1 = df.sample(2)\n",
    "df1"
   ]
  },
  {
   "cell_type": "code",
   "execution_count": 164,
   "metadata": {},
   "outputs": [
    {
     "name": "stdout",
     "output_type": "stream",
     "text": [
      "Chestnut Farm, Beeby, Charnwood, Leicestershire, England, LE7 3BQ, United Kingdom\n"
     ]
    }
   ],
   "source": [
    "from geopy.geocoders import Nominatim \n",
    "geolocator = Nominatim(user_agent=\"vanna\")\n",
    "location = geolocator.reverse(\"52.664913, -1.034894\")\n",
    "print(location.address)"
   ]
  },
  {
   "cell_type": "code",
   "execution_count": 84,
   "metadata": {},
   "outputs": [
    {
     "data": {
      "text/html": [
       "<div>\n",
       "<style scoped>\n",
       "    .dataframe tbody tr th:only-of-type {\n",
       "        vertical-align: middle;\n",
       "    }\n",
       "\n",
       "    .dataframe tbody tr th {\n",
       "        vertical-align: top;\n",
       "    }\n",
       "\n",
       "    .dataframe thead th {\n",
       "        text-align: right;\n",
       "    }\n",
       "</style>\n",
       "<table border=\"1\" class=\"dataframe\">\n",
       "  <thead>\n",
       "    <tr style=\"text-align: right;\">\n",
       "      <th></th>\n",
       "      <th>Reportedtimestamp</th>\n",
       "      <th>eventdate</th>\n",
       "      <th>eventtime</th>\n",
       "      <th>shape</th>\n",
       "      <th>duration</th>\n",
       "      <th>witnesses</th>\n",
       "      <th>weather</th>\n",
       "      <th>firstname</th>\n",
       "      <th>lastname</th>\n",
       "      <th>latitude</th>\n",
       "      <th>longitude</th>\n",
       "      <th>sighting</th>\n",
       "      <th>physicalevidence</th>\n",
       "      <th>contact</th>\n",
       "      <th>researchoutcome</th>\n",
       "      <th>geom</th>\n",
       "    </tr>\n",
       "  </thead>\n",
       "  <tbody>\n",
       "    <tr>\n",
       "      <th>6189</th>\n",
       "      <td>2014-08-17T06:41:12.263Z</td>\n",
       "      <td>2014-08-16</td>\n",
       "      <td>22:50</td>\n",
       "      <td>square</td>\n",
       "      <td>37</td>\n",
       "      <td>4</td>\n",
       "      <td>mostly cloudy</td>\n",
       "      <td>Gordon</td>\n",
       "      <td>McGlynn</td>\n",
       "      <td>34.019444</td>\n",
       "      <td>-118.490278</td>\n",
       "      <td>Y</td>\n",
       "      <td>N</td>\n",
       "      <td>N</td>\n",
       "      <td>unexplained</td>\n",
       "      <td>(34.0194444, -118.4902778)</td>\n",
       "    </tr>\n",
       "    <tr>\n",
       "      <th>2809</th>\n",
       "      <td>1994-09-14T00:26:25.946Z</td>\n",
       "      <td>1994-09-13</td>\n",
       "      <td>16:23</td>\n",
       "      <td>light</td>\n",
       "      <td>92</td>\n",
       "      <td>2</td>\n",
       "      <td>partly cloudy</td>\n",
       "      <td>Nelson</td>\n",
       "      <td>Dooley</td>\n",
       "      <td>37.747778</td>\n",
       "      <td>-84.294722</td>\n",
       "      <td>Y</td>\n",
       "      <td>N</td>\n",
       "      <td>N</td>\n",
       "      <td>explained</td>\n",
       "      <td>(37.7477778, -84.2947222)</td>\n",
       "    </tr>\n",
       "  </tbody>\n",
       "</table>\n",
       "</div>"
      ],
      "text/plain": [
       "             Reportedtimestamp   eventdate eventtime   shape  duration  \\\n",
       "6189  2014-08-17T06:41:12.263Z  2014-08-16     22:50  square        37   \n",
       "2809  1994-09-14T00:26:25.946Z  1994-09-13     16:23   light        92   \n",
       "\n",
       "      witnesses        weather firstname lastname   latitude   longitude  \\\n",
       "6189          4  mostly cloudy    Gordon  McGlynn  34.019444 -118.490278   \n",
       "2809          2  partly cloudy    Nelson   Dooley  37.747778  -84.294722   \n",
       "\n",
       "     sighting physicalevidence contact researchoutcome  \\\n",
       "6189        Y                N       N     unexplained   \n",
       "2809        Y                N       N       explained   \n",
       "\n",
       "                            geom  \n",
       "6189  (34.0194444, -118.4902778)  \n",
       "2809   (37.7477778, -84.2947222)  "
      ]
     },
     "execution_count": 84,
     "metadata": {},
     "output_type": "execute_result"
    }
   ],
   "source": [
    "df2 = df.sample(2)\n",
    "df2"
   ]
  },
  {
   "cell_type": "code",
   "execution_count": 167,
   "metadata": {},
   "outputs": [],
   "source": [
    "def get_country(row):\n",
    "    pos = str(row['latitude']) + ', ' + str(row['longitude'])\n",
    "    locations = geolocator.reverse(pos)\n",
    "    return locations.raw['address']['country']"
   ]
  },
  {
   "cell_type": "code",
   "execution_count": 89,
   "metadata": {},
   "outputs": [],
   "source": [
    "from tqdm import tqdm\n"
   ]
  },
  {
   "cell_type": "markdown",
   "metadata": {},
   "source": []
  },
  {
   "cell_type": "code",
   "execution_count": null,
   "metadata": {},
   "outputs": [],
   "source": [
    "df['country'] = df.progress_apply(lambda row: get_country(row), axis = 1)"
   ]
  },
  {
   "cell_type": "code",
   "execution_count": 9,
   "metadata": {},
   "outputs": [],
   "source": [
    "df1['geom'] = df1.apply(lambda row: (str(row.latitude),str(row.longitude)),axis=1)"
   ]
  },
  {
   "cell_type": "code",
   "execution_count": 10,
   "metadata": {},
   "outputs": [],
   "source": [
    "df1['address'] = df1.apply(lambda row: geolocator.reverse(row.geom).address,axis=1)"
   ]
  },
  {
   "cell_type": "code",
   "execution_count": 13,
   "metadata": {},
   "outputs": [],
   "source": [
    "df1['country'] = df1.apply(lambda row: geolocator.reverse(row.geom).address.split(\",\")[-1].strip(),axis=1)"
   ]
  },
  {
   "cell_type": "code",
   "execution_count": 160,
   "metadata": {},
   "outputs": [],
   "source": [
    "df_test = df.head()"
   ]
  },
  {
   "cell_type": "code",
   "execution_count": 161,
   "metadata": {},
   "outputs": [
    {
     "data": {
      "text/html": [
       "<div>\n",
       "<style scoped>\n",
       "    .dataframe tbody tr th:only-of-type {\n",
       "        vertical-align: middle;\n",
       "    }\n",
       "\n",
       "    .dataframe tbody tr th {\n",
       "        vertical-align: top;\n",
       "    }\n",
       "\n",
       "    .dataframe thead th {\n",
       "        text-align: right;\n",
       "    }\n",
       "</style>\n",
       "<table border=\"1\" class=\"dataframe\">\n",
       "  <thead>\n",
       "    <tr style=\"text-align: right;\">\n",
       "      <th></th>\n",
       "      <th>Reportedtimestamp</th>\n",
       "      <th>eventdate</th>\n",
       "      <th>eventtime</th>\n",
       "      <th>shape</th>\n",
       "      <th>duration</th>\n",
       "      <th>witnesses</th>\n",
       "      <th>weather</th>\n",
       "      <th>firstname</th>\n",
       "      <th>lastname</th>\n",
       "      <th>latitude</th>\n",
       "      <th>longitude</th>\n",
       "      <th>sighting</th>\n",
       "      <th>physicalevidence</th>\n",
       "      <th>contact</th>\n",
       "      <th>researchoutcome</th>\n",
       "      <th>geom</th>\n",
       "    </tr>\n",
       "  </thead>\n",
       "  <tbody>\n",
       "    <tr>\n",
       "      <th>0</th>\n",
       "      <td>1977-04-04T04:02:23.340Z</td>\n",
       "      <td>1977-03-31</td>\n",
       "      <td>23:46</td>\n",
       "      <td>circle</td>\n",
       "      <td>4</td>\n",
       "      <td>1</td>\n",
       "      <td>rain</td>\n",
       "      <td>Ila</td>\n",
       "      <td>Bashirian</td>\n",
       "      <td>47.329444</td>\n",
       "      <td>-122.578889</td>\n",
       "      <td>Y</td>\n",
       "      <td>N</td>\n",
       "      <td>N</td>\n",
       "      <td>explained</td>\n",
       "      <td>(47.3294444, -122.5788889)</td>\n",
       "    </tr>\n",
       "    <tr>\n",
       "      <th>1</th>\n",
       "      <td>1982-11-22T02:06:32.019Z</td>\n",
       "      <td>1982-11-15</td>\n",
       "      <td>22:04</td>\n",
       "      <td>disk</td>\n",
       "      <td>4</td>\n",
       "      <td>1</td>\n",
       "      <td>partly cloudy</td>\n",
       "      <td>Eriberto</td>\n",
       "      <td>Runolfsson</td>\n",
       "      <td>52.664913</td>\n",
       "      <td>-1.034894</td>\n",
       "      <td>Y</td>\n",
       "      <td>Y</td>\n",
       "      <td>N</td>\n",
       "      <td>explained</td>\n",
       "      <td>(52.664913, -1.034894)</td>\n",
       "    </tr>\n",
       "    <tr>\n",
       "      <th>2</th>\n",
       "      <td>1992-12-07T19:06:52.482Z</td>\n",
       "      <td>1992-12-07</td>\n",
       "      <td>19:01</td>\n",
       "      <td>circle</td>\n",
       "      <td>49</td>\n",
       "      <td>1</td>\n",
       "      <td>clear</td>\n",
       "      <td>Miller</td>\n",
       "      <td>Watsica</td>\n",
       "      <td>38.951667</td>\n",
       "      <td>-92.333889</td>\n",
       "      <td>Y</td>\n",
       "      <td>N</td>\n",
       "      <td>N</td>\n",
       "      <td>explained</td>\n",
       "      <td>(38.9516667, -92.3338889)</td>\n",
       "    </tr>\n",
       "    <tr>\n",
       "      <th>3</th>\n",
       "      <td>2011-02-24T21:06:34.898Z</td>\n",
       "      <td>2011-02-21</td>\n",
       "      <td>20:56</td>\n",
       "      <td>disk</td>\n",
       "      <td>13</td>\n",
       "      <td>1</td>\n",
       "      <td>partly cloudy</td>\n",
       "      <td>Clifton</td>\n",
       "      <td>Bechtelar</td>\n",
       "      <td>41.496944</td>\n",
       "      <td>-71.367778</td>\n",
       "      <td>Y</td>\n",
       "      <td>N</td>\n",
       "      <td>N</td>\n",
       "      <td>explained</td>\n",
       "      <td>(41.4969444, -71.3677778)</td>\n",
       "    </tr>\n",
       "    <tr>\n",
       "      <th>4</th>\n",
       "      <td>1991-03-09T16:18:45.501Z</td>\n",
       "      <td>1991-03-09</td>\n",
       "      <td>11:42</td>\n",
       "      <td>circle</td>\n",
       "      <td>17</td>\n",
       "      <td>1</td>\n",
       "      <td>mostly cloudy</td>\n",
       "      <td>Jayda</td>\n",
       "      <td>Ebert</td>\n",
       "      <td>47.606389</td>\n",
       "      <td>-122.330833</td>\n",
       "      <td>Y</td>\n",
       "      <td>N</td>\n",
       "      <td>N</td>\n",
       "      <td>explained</td>\n",
       "      <td>(47.6063889, -122.3308333)</td>\n",
       "    </tr>\n",
       "  </tbody>\n",
       "</table>\n",
       "</div>"
      ],
      "text/plain": [
       "          Reportedtimestamp   eventdate eventtime   shape  duration  \\\n",
       "0  1977-04-04T04:02:23.340Z  1977-03-31     23:46  circle         4   \n",
       "1  1982-11-22T02:06:32.019Z  1982-11-15     22:04    disk         4   \n",
       "2  1992-12-07T19:06:52.482Z  1992-12-07     19:01  circle        49   \n",
       "3  2011-02-24T21:06:34.898Z  2011-02-21     20:56    disk        13   \n",
       "4  1991-03-09T16:18:45.501Z  1991-03-09     11:42  circle        17   \n",
       "\n",
       "   witnesses        weather firstname    lastname   latitude   longitude  \\\n",
       "0          1           rain       Ila   Bashirian  47.329444 -122.578889   \n",
       "1          1  partly cloudy  Eriberto  Runolfsson  52.664913   -1.034894   \n",
       "2          1          clear    Miller     Watsica  38.951667  -92.333889   \n",
       "3          1  partly cloudy   Clifton   Bechtelar  41.496944  -71.367778   \n",
       "4          1  mostly cloudy     Jayda       Ebert  47.606389 -122.330833   \n",
       "\n",
       "  sighting physicalevidence contact researchoutcome  \\\n",
       "0        Y                N       N       explained   \n",
       "1        Y                Y       N       explained   \n",
       "2        Y                N       N       explained   \n",
       "3        Y                N       N       explained   \n",
       "4        Y                N       N       explained   \n",
       "\n",
       "                         geom  \n",
       "0  (47.3294444, -122.5788889)  \n",
       "1      (52.664913, -1.034894)  \n",
       "2   (38.9516667, -92.3338889)  \n",
       "3   (41.4969444, -71.3677778)  \n",
       "4  (47.6063889, -122.3308333)  "
      ]
     },
     "execution_count": 161,
     "metadata": {},
     "output_type": "execute_result"
    }
   ],
   "source": [
    "df_test"
   ]
  },
  {
   "cell_type": "code",
   "execution_count": 168,
   "metadata": {},
   "outputs": [
    {
     "name": "stderr",
     "output_type": "stream",
     "text": [
      "100%|██████████| 5/5 [00:02<00:00,  2.27it/s]\n",
      "/var/folders/66/3gn2x5sj3tlfxjp4wp1zg9n00000gn/T/ipykernel_17609/1628211755.py:1: SettingWithCopyWarning: \n",
      "A value is trying to be set on a copy of a slice from a DataFrame.\n",
      "Try using .loc[row_indexer,col_indexer] = value instead\n",
      "\n",
      "See the caveats in the documentation: https://pandas.pydata.org/pandas-docs/stable/user_guide/indexing.html#returning-a-view-versus-a-copy\n",
      "  df_test['country'] = df_test.progress_apply(lambda row: get_country(row), axis = 1)\n"
     ]
    }
   ],
   "source": [
    "df_test['country'] = df_test.progress_apply(lambda row: get_country(row), axis = 1)"
   ]
  },
  {
   "cell_type": "code",
   "execution_count": 169,
   "metadata": {},
   "outputs": [
    {
     "data": {
      "text/html": [
       "<div>\n",
       "<style scoped>\n",
       "    .dataframe tbody tr th:only-of-type {\n",
       "        vertical-align: middle;\n",
       "    }\n",
       "\n",
       "    .dataframe tbody tr th {\n",
       "        vertical-align: top;\n",
       "    }\n",
       "\n",
       "    .dataframe thead th {\n",
       "        text-align: right;\n",
       "    }\n",
       "</style>\n",
       "<table border=\"1\" class=\"dataframe\">\n",
       "  <thead>\n",
       "    <tr style=\"text-align: right;\">\n",
       "      <th></th>\n",
       "      <th>Reportedtimestamp</th>\n",
       "      <th>eventdate</th>\n",
       "      <th>eventtime</th>\n",
       "      <th>shape</th>\n",
       "      <th>duration</th>\n",
       "      <th>witnesses</th>\n",
       "      <th>weather</th>\n",
       "      <th>firstname</th>\n",
       "      <th>lastname</th>\n",
       "      <th>latitude</th>\n",
       "      <th>longitude</th>\n",
       "      <th>sighting</th>\n",
       "      <th>physicalevidence</th>\n",
       "      <th>contact</th>\n",
       "      <th>researchoutcome</th>\n",
       "      <th>geom</th>\n",
       "      <th>country</th>\n",
       "    </tr>\n",
       "  </thead>\n",
       "  <tbody>\n",
       "    <tr>\n",
       "      <th>0</th>\n",
       "      <td>1977-04-04T04:02:23.340Z</td>\n",
       "      <td>1977-03-31</td>\n",
       "      <td>23:46</td>\n",
       "      <td>circle</td>\n",
       "      <td>4</td>\n",
       "      <td>1</td>\n",
       "      <td>rain</td>\n",
       "      <td>Ila</td>\n",
       "      <td>Bashirian</td>\n",
       "      <td>47.329444</td>\n",
       "      <td>-122.578889</td>\n",
       "      <td>Y</td>\n",
       "      <td>N</td>\n",
       "      <td>N</td>\n",
       "      <td>explained</td>\n",
       "      <td>(47.3294444, -122.5788889)</td>\n",
       "      <td>United States</td>\n",
       "    </tr>\n",
       "    <tr>\n",
       "      <th>1</th>\n",
       "      <td>1982-11-22T02:06:32.019Z</td>\n",
       "      <td>1982-11-15</td>\n",
       "      <td>22:04</td>\n",
       "      <td>disk</td>\n",
       "      <td>4</td>\n",
       "      <td>1</td>\n",
       "      <td>partly cloudy</td>\n",
       "      <td>Eriberto</td>\n",
       "      <td>Runolfsson</td>\n",
       "      <td>52.664913</td>\n",
       "      <td>-1.034894</td>\n",
       "      <td>Y</td>\n",
       "      <td>Y</td>\n",
       "      <td>N</td>\n",
       "      <td>explained</td>\n",
       "      <td>(52.664913, -1.034894)</td>\n",
       "      <td>United Kingdom</td>\n",
       "    </tr>\n",
       "    <tr>\n",
       "      <th>2</th>\n",
       "      <td>1992-12-07T19:06:52.482Z</td>\n",
       "      <td>1992-12-07</td>\n",
       "      <td>19:01</td>\n",
       "      <td>circle</td>\n",
       "      <td>49</td>\n",
       "      <td>1</td>\n",
       "      <td>clear</td>\n",
       "      <td>Miller</td>\n",
       "      <td>Watsica</td>\n",
       "      <td>38.951667</td>\n",
       "      <td>-92.333889</td>\n",
       "      <td>Y</td>\n",
       "      <td>N</td>\n",
       "      <td>N</td>\n",
       "      <td>explained</td>\n",
       "      <td>(38.9516667, -92.3338889)</td>\n",
       "      <td>United States</td>\n",
       "    </tr>\n",
       "    <tr>\n",
       "      <th>3</th>\n",
       "      <td>2011-02-24T21:06:34.898Z</td>\n",
       "      <td>2011-02-21</td>\n",
       "      <td>20:56</td>\n",
       "      <td>disk</td>\n",
       "      <td>13</td>\n",
       "      <td>1</td>\n",
       "      <td>partly cloudy</td>\n",
       "      <td>Clifton</td>\n",
       "      <td>Bechtelar</td>\n",
       "      <td>41.496944</td>\n",
       "      <td>-71.367778</td>\n",
       "      <td>Y</td>\n",
       "      <td>N</td>\n",
       "      <td>N</td>\n",
       "      <td>explained</td>\n",
       "      <td>(41.4969444, -71.3677778)</td>\n",
       "      <td>United States</td>\n",
       "    </tr>\n",
       "    <tr>\n",
       "      <th>4</th>\n",
       "      <td>1991-03-09T16:18:45.501Z</td>\n",
       "      <td>1991-03-09</td>\n",
       "      <td>11:42</td>\n",
       "      <td>circle</td>\n",
       "      <td>17</td>\n",
       "      <td>1</td>\n",
       "      <td>mostly cloudy</td>\n",
       "      <td>Jayda</td>\n",
       "      <td>Ebert</td>\n",
       "      <td>47.606389</td>\n",
       "      <td>-122.330833</td>\n",
       "      <td>Y</td>\n",
       "      <td>N</td>\n",
       "      <td>N</td>\n",
       "      <td>explained</td>\n",
       "      <td>(47.6063889, -122.3308333)</td>\n",
       "      <td>United States</td>\n",
       "    </tr>\n",
       "  </tbody>\n",
       "</table>\n",
       "</div>"
      ],
      "text/plain": [
       "          Reportedtimestamp   eventdate eventtime   shape  duration  \\\n",
       "0  1977-04-04T04:02:23.340Z  1977-03-31     23:46  circle         4   \n",
       "1  1982-11-22T02:06:32.019Z  1982-11-15     22:04    disk         4   \n",
       "2  1992-12-07T19:06:52.482Z  1992-12-07     19:01  circle        49   \n",
       "3  2011-02-24T21:06:34.898Z  2011-02-21     20:56    disk        13   \n",
       "4  1991-03-09T16:18:45.501Z  1991-03-09     11:42  circle        17   \n",
       "\n",
       "   witnesses        weather firstname    lastname   latitude   longitude  \\\n",
       "0          1           rain       Ila   Bashirian  47.329444 -122.578889   \n",
       "1          1  partly cloudy  Eriberto  Runolfsson  52.664913   -1.034894   \n",
       "2          1          clear    Miller     Watsica  38.951667  -92.333889   \n",
       "3          1  partly cloudy   Clifton   Bechtelar  41.496944  -71.367778   \n",
       "4          1  mostly cloudy     Jayda       Ebert  47.606389 -122.330833   \n",
       "\n",
       "  sighting physicalevidence contact researchoutcome  \\\n",
       "0        Y                N       N       explained   \n",
       "1        Y                Y       N       explained   \n",
       "2        Y                N       N       explained   \n",
       "3        Y                N       N       explained   \n",
       "4        Y                N       N       explained   \n",
       "\n",
       "                         geom         country  \n",
       "0  (47.3294444, -122.5788889)   United States  \n",
       "1      (52.664913, -1.034894)  United Kingdom  \n",
       "2   (38.9516667, -92.3338889)   United States  \n",
       "3   (41.4969444, -71.3677778)   United States  \n",
       "4  (47.6063889, -122.3308333)   United States  "
      ]
     },
     "execution_count": 169,
     "metadata": {},
     "output_type": "execute_result"
    }
   ],
   "source": [
    "df_test"
   ]
  },
  {
   "cell_type": "code",
   "execution_count": 115,
   "metadata": {},
   "outputs": [],
   "source": [
    "df_1 = df.iloc[0:1000]\n",
    "df_2 = df.iloc[1000:2000]\n",
    "df_3 = df.iloc[2000:3000]\n",
    "df_4 = df.iloc[3000:4000]\n",
    "df_5 = df.iloc[4000:5000]\n",
    "df_6 = df.iloc[5000:6000]\n",
    "df_7 = df.iloc[6000:7000]\n",
    "df_8 = df.iloc[7000:8000]\n",
    "df_9 = df.iloc[8000:9000]\n",
    "df_10 = df.iloc[9000:10000]\n",
    "df_11 = df.iloc[10000:11000]\n",
    "df_12 = df.iloc[11000:12000]\n",
    "df_13 = df.iloc[12000:13000]\n",
    "df_14= df.iloc[13000:14000]\n",
    "df_15 = df.iloc[14000:15000]\n",
    "df_16 = df.iloc[15000:16000]\n",
    "df_17 = df.iloc[16000:17000]\n",
    "df_18 = df.iloc[17000:18000]"
   ]
  },
  {
   "cell_type": "code",
   "execution_count": 102,
   "metadata": {},
   "outputs": [],
   "source": [
    "import time"
   ]
  },
  {
   "cell_type": "code",
   "execution_count": 99,
   "metadata": {},
   "outputs": [
    {
     "name": "stderr",
     "output_type": "stream",
     "text": [
      "100%|██████████| 1000/1000 [12:12<00:00,  1.36it/s]\n",
      "/var/folders/66/3gn2x5sj3tlfxjp4wp1zg9n00000gn/T/ipykernel_17609/3674880930.py:1: SettingWithCopyWarning: \n",
      "A value is trying to be set on a copy of a slice from a DataFrame.\n",
      "Try using .loc[row_indexer,col_indexer] = value instead\n",
      "\n",
      "See the caveats in the documentation: https://pandas.pydata.org/pandas-docs/stable/user_guide/indexing.html#returning-a-view-versus-a-copy\n",
      "  df_18['country'] = df_18.progress_apply(lambda row: get_country(row), axis = 1)\n"
     ]
    }
   ],
   "source": [
    "df_18['country'] = df_18.progress_apply(lambda row: get_country(row), axis = 1)"
   ]
  },
  {
   "cell_type": "code",
   "execution_count": 106,
   "metadata": {},
   "outputs": [
    {
     "data": {
      "text/html": [
       "<div>\n",
       "<style scoped>\n",
       "    .dataframe tbody tr th:only-of-type {\n",
       "        vertical-align: middle;\n",
       "    }\n",
       "\n",
       "    .dataframe tbody tr th {\n",
       "        vertical-align: top;\n",
       "    }\n",
       "\n",
       "    .dataframe thead th {\n",
       "        text-align: right;\n",
       "    }\n",
       "</style>\n",
       "<table border=\"1\" class=\"dataframe\">\n",
       "  <thead>\n",
       "    <tr style=\"text-align: right;\">\n",
       "      <th></th>\n",
       "      <th>Reportedtimestamp</th>\n",
       "      <th>eventdate</th>\n",
       "      <th>eventtime</th>\n",
       "      <th>shape</th>\n",
       "      <th>duration</th>\n",
       "      <th>witnesses</th>\n",
       "      <th>weather</th>\n",
       "      <th>firstname</th>\n",
       "      <th>lastname</th>\n",
       "      <th>latitude</th>\n",
       "      <th>longitude</th>\n",
       "      <th>sighting</th>\n",
       "      <th>physicalevidence</th>\n",
       "      <th>contact</th>\n",
       "      <th>researchoutcome</th>\n",
       "      <th>geom</th>\n",
       "      <th>country</th>\n",
       "    </tr>\n",
       "  </thead>\n",
       "  <tbody>\n",
       "    <tr>\n",
       "      <th>17000</th>\n",
       "      <td>2001-07-07T08:43:23.264Z</td>\n",
       "      <td>2001-07-07</td>\n",
       "      <td>03:34</td>\n",
       "      <td>sphere</td>\n",
       "      <td>65</td>\n",
       "      <td>10</td>\n",
       "      <td>snow</td>\n",
       "      <td>Beryl</td>\n",
       "      <td>Ankunding</td>\n",
       "      <td>34.765833</td>\n",
       "      <td>-84.77</td>\n",
       "      <td>Y</td>\n",
       "      <td>N</td>\n",
       "      <td>N</td>\n",
       "      <td>probable</td>\n",
       "      <td>(34.7658333, -84.77)</td>\n",
       "      <td>United States</td>\n",
       "    </tr>\n",
       "  </tbody>\n",
       "</table>\n",
       "</div>"
      ],
      "text/plain": [
       "              Reportedtimestamp   eventdate eventtime   shape  duration  \\\n",
       "17000  2001-07-07T08:43:23.264Z  2001-07-07     03:34  sphere        65   \n",
       "\n",
       "       witnesses weather firstname   lastname   latitude  longitude sighting  \\\n",
       "17000         10    snow     Beryl  Ankunding  34.765833     -84.77        Y   \n",
       "\n",
       "      physicalevidence contact researchoutcome                  geom  \\\n",
       "17000                N       N        probable  (34.7658333, -84.77)   \n",
       "\n",
       "             country  \n",
       "17000  United States  "
      ]
     },
     "execution_count": 106,
     "metadata": {},
     "output_type": "execute_result"
    }
   ],
   "source": [
    "df_18.head(1)"
   ]
  },
  {
   "cell_type": "markdown",
   "metadata": {},
   "source": []
  },
  {
   "cell_type": "code",
   "execution_count": 112,
   "metadata": {},
   "outputs": [],
   "source": [
    "time.sleep(1)\n"
   ]
  },
  {
   "cell_type": "code",
   "execution_count": 113,
   "metadata": {},
   "outputs": [],
   "source": [
    "df_19 = df.iloc[0:100]"
   ]
  },
  {
   "cell_type": "code",
   "execution_count": 116,
   "metadata": {},
   "outputs": [
    {
     "name": "stdout",
     "output_type": "stream",
     "text": [
      "Printed immediately.\n",
      "Printed after 2.4 seconds.\n"
     ]
    }
   ],
   "source": [
    "import time\n",
    "time.sleep(2.4)\n"
   ]
  },
  {
   "cell_type": "code",
   "execution_count": 120,
   "metadata": {},
   "outputs": [
    {
     "name": "stderr",
     "output_type": "stream",
     "text": [
      "100%|██████████| 1000/1000 [08:31<00:00,  1.96it/s]\n",
      "/var/folders/66/3gn2x5sj3tlfxjp4wp1zg9n00000gn/T/ipykernel_17609/4149713052.py:2: SettingWithCopyWarning: \n",
      "A value is trying to be set on a copy of a slice from a DataFrame.\n",
      "Try using .loc[row_indexer,col_indexer] = value instead\n",
      "\n",
      "See the caveats in the documentation: https://pandas.pydata.org/pandas-docs/stable/user_guide/indexing.html#returning-a-view-versus-a-copy\n",
      "  df_18['country'] = df_18.progress_apply(lambda row: get_country(row), axis = 1)\n"
     ]
    }
   ],
   "source": [
    "time.sleep(1)\n",
    "df_18['country'] = df_18.progress_apply(lambda row: get_country(row), axis = 1)"
   ]
  },
  {
   "cell_type": "code",
   "execution_count": 121,
   "metadata": {},
   "outputs": [
    {
     "name": "stderr",
     "output_type": "stream",
     "text": [
      "100%|██████████| 1000/1000 [08:19<00:00,  2.00it/s]\n",
      "/var/folders/66/3gn2x5sj3tlfxjp4wp1zg9n00000gn/T/ipykernel_17609/3778313860.py:2: SettingWithCopyWarning: \n",
      "A value is trying to be set on a copy of a slice from a DataFrame.\n",
      "Try using .loc[row_indexer,col_indexer] = value instead\n",
      "\n",
      "See the caveats in the documentation: https://pandas.pydata.org/pandas-docs/stable/user_guide/indexing.html#returning-a-view-versus-a-copy\n",
      "  df_17['country'] = df_17.progress_apply(lambda row: get_country(row), axis = 1)\n"
     ]
    }
   ],
   "source": [
    "time.sleep(1)\n",
    "df_17['country'] = df_17.progress_apply(lambda row: get_country(row), axis = 1)"
   ]
  },
  {
   "cell_type": "code",
   "execution_count": 122,
   "metadata": {},
   "outputs": [
    {
     "name": "stderr",
     "output_type": "stream",
     "text": [
      "100%|██████████| 1000/1000 [08:20<00:00,  2.00it/s]\n",
      "/var/folders/66/3gn2x5sj3tlfxjp4wp1zg9n00000gn/T/ipykernel_17609/2155869545.py:2: SettingWithCopyWarning: \n",
      "A value is trying to be set on a copy of a slice from a DataFrame.\n",
      "Try using .loc[row_indexer,col_indexer] = value instead\n",
      "\n",
      "See the caveats in the documentation: https://pandas.pydata.org/pandas-docs/stable/user_guide/indexing.html#returning-a-view-versus-a-copy\n",
      "  df_16['country'] = df_16.progress_apply(lambda row: get_country(row), axis = 1)\n"
     ]
    }
   ],
   "source": [
    "time.sleep(1)\n",
    "df_16['country'] = df_16.progress_apply(lambda row: get_country(row), axis = 1)"
   ]
  },
  {
   "cell_type": "code",
   "execution_count": 123,
   "metadata": {},
   "outputs": [
    {
     "name": "stderr",
     "output_type": "stream",
     "text": [
      "100%|██████████| 1000/1000 [08:23<00:00,  1.99it/s]\n",
      "/var/folders/66/3gn2x5sj3tlfxjp4wp1zg9n00000gn/T/ipykernel_17609/249821811.py:1: SettingWithCopyWarning: \n",
      "A value is trying to be set on a copy of a slice from a DataFrame.\n",
      "Try using .loc[row_indexer,col_indexer] = value instead\n",
      "\n",
      "See the caveats in the documentation: https://pandas.pydata.org/pandas-docs/stable/user_guide/indexing.html#returning-a-view-versus-a-copy\n",
      "  df_15['country'] = df_15.progress_apply(lambda row: get_country(row), axis = 1)\n"
     ]
    }
   ],
   "source": [
    "df_15['country'] = df_15.progress_apply(lambda row: get_country(row), axis = 1)"
   ]
  },
  {
   "cell_type": "code",
   "execution_count": 124,
   "metadata": {},
   "outputs": [],
   "source": [
    "time.sleep(10)"
   ]
  },
  {
   "cell_type": "code",
   "execution_count": 125,
   "metadata": {},
   "outputs": [
    {
     "name": "stderr",
     "output_type": "stream",
     "text": [
      "100%|██████████| 1000/1000 [08:21<00:00,  1.99it/s]\n",
      "/var/folders/66/3gn2x5sj3tlfxjp4wp1zg9n00000gn/T/ipykernel_17609/4186959070.py:1: SettingWithCopyWarning: \n",
      "A value is trying to be set on a copy of a slice from a DataFrame.\n",
      "Try using .loc[row_indexer,col_indexer] = value instead\n",
      "\n",
      "See the caveats in the documentation: https://pandas.pydata.org/pandas-docs/stable/user_guide/indexing.html#returning-a-view-versus-a-copy\n",
      "  df_14['country'] = df_14.progress_apply(lambda row: get_country(row), axis = 1)\n"
     ]
    }
   ],
   "source": [
    "\n",
    "df_14['country'] = df_14.progress_apply(lambda row: get_country(row), axis = 1)"
   ]
  },
  {
   "cell_type": "code",
   "execution_count": 126,
   "metadata": {},
   "outputs": [],
   "source": [
    "time.sleep(1)"
   ]
  },
  {
   "cell_type": "code",
   "execution_count": 127,
   "metadata": {},
   "outputs": [
    {
     "name": "stderr",
     "output_type": "stream",
     "text": [
      "100%|██████████| 1000/1000 [08:19<00:00,  2.00it/s]\n",
      "/var/folders/66/3gn2x5sj3tlfxjp4wp1zg9n00000gn/T/ipykernel_17609/3993640214.py:1: SettingWithCopyWarning: \n",
      "A value is trying to be set on a copy of a slice from a DataFrame.\n",
      "Try using .loc[row_indexer,col_indexer] = value instead\n",
      "\n",
      "See the caveats in the documentation: https://pandas.pydata.org/pandas-docs/stable/user_guide/indexing.html#returning-a-view-versus-a-copy\n",
      "  df_13['country'] = df_13.progress_apply(lambda row: get_country(row), axis = 1)\n"
     ]
    }
   ],
   "source": [
    "\n",
    "df_13['country'] = df_13.progress_apply(lambda row: get_country(row), axis = 1)"
   ]
  },
  {
   "cell_type": "code",
   "execution_count": 128,
   "metadata": {},
   "outputs": [],
   "source": [
    "time.sleep(1)"
   ]
  },
  {
   "cell_type": "code",
   "execution_count": 129,
   "metadata": {},
   "outputs": [
    {
     "name": "stderr",
     "output_type": "stream",
     "text": [
      "100%|██████████| 1000/1000 [08:20<00:00,  2.00it/s]\n",
      "/var/folders/66/3gn2x5sj3tlfxjp4wp1zg9n00000gn/T/ipykernel_17609/1625210300.py:1: SettingWithCopyWarning: \n",
      "A value is trying to be set on a copy of a slice from a DataFrame.\n",
      "Try using .loc[row_indexer,col_indexer] = value instead\n",
      "\n",
      "See the caveats in the documentation: https://pandas.pydata.org/pandas-docs/stable/user_guide/indexing.html#returning-a-view-versus-a-copy\n",
      "  df_12['country'] = df_12.progress_apply(lambda row: get_country(row), axis = 1)\n"
     ]
    }
   ],
   "source": [
    "\n",
    "df_12['country'] = df_12.progress_apply(lambda row: get_country(row), axis = 1)"
   ]
  },
  {
   "cell_type": "code",
   "execution_count": 130,
   "metadata": {},
   "outputs": [],
   "source": [
    "time.sleep(1)"
   ]
  },
  {
   "cell_type": "code",
   "execution_count": 131,
   "metadata": {},
   "outputs": [
    {
     "name": "stderr",
     "output_type": "stream",
     "text": [
      "100%|██████████| 1000/1000 [08:19<00:00,  2.00it/s]\n",
      "/var/folders/66/3gn2x5sj3tlfxjp4wp1zg9n00000gn/T/ipykernel_17609/197185971.py:1: SettingWithCopyWarning: \n",
      "A value is trying to be set on a copy of a slice from a DataFrame.\n",
      "Try using .loc[row_indexer,col_indexer] = value instead\n",
      "\n",
      "See the caveats in the documentation: https://pandas.pydata.org/pandas-docs/stable/user_guide/indexing.html#returning-a-view-versus-a-copy\n",
      "  df_11['country'] = df_11.progress_apply(lambda row: get_country(row), axis = 1)\n"
     ]
    }
   ],
   "source": [
    "\n",
    "df_11['country'] = df_11.progress_apply(lambda row: get_country(row), axis = 1)"
   ]
  },
  {
   "cell_type": "code",
   "execution_count": 132,
   "metadata": {},
   "outputs": [],
   "source": [
    "time.sleep(1)"
   ]
  },
  {
   "cell_type": "code",
   "execution_count": 133,
   "metadata": {},
   "outputs": [
    {
     "name": "stderr",
     "output_type": "stream",
     "text": [
      "100%|██████████| 1000/1000 [08:20<00:00,  2.00it/s]\n",
      "/var/folders/66/3gn2x5sj3tlfxjp4wp1zg9n00000gn/T/ipykernel_17609/995376152.py:1: SettingWithCopyWarning: \n",
      "A value is trying to be set on a copy of a slice from a DataFrame.\n",
      "Try using .loc[row_indexer,col_indexer] = value instead\n",
      "\n",
      "See the caveats in the documentation: https://pandas.pydata.org/pandas-docs/stable/user_guide/indexing.html#returning-a-view-versus-a-copy\n",
      "  df_10['country'] = df_10.progress_apply(lambda row: get_country(row), axis = 1)\n"
     ]
    }
   ],
   "source": [
    "\n",
    "df_10['country'] = df_10.progress_apply(lambda row: get_country(row), axis = 1)"
   ]
  },
  {
   "cell_type": "code",
   "execution_count": 134,
   "metadata": {},
   "outputs": [],
   "source": [
    "time.sleep(10)"
   ]
  },
  {
   "cell_type": "code",
   "execution_count": 135,
   "metadata": {},
   "outputs": [
    {
     "name": "stderr",
     "output_type": "stream",
     "text": [
      "100%|██████████| 1000/1000 [08:19<00:00,  2.00it/s]\n",
      "/var/folders/66/3gn2x5sj3tlfxjp4wp1zg9n00000gn/T/ipykernel_17609/1449733056.py:1: SettingWithCopyWarning: \n",
      "A value is trying to be set on a copy of a slice from a DataFrame.\n",
      "Try using .loc[row_indexer,col_indexer] = value instead\n",
      "\n",
      "See the caveats in the documentation: https://pandas.pydata.org/pandas-docs/stable/user_guide/indexing.html#returning-a-view-versus-a-copy\n",
      "  df_9['country'] = df_9.progress_apply(lambda row: get_country(row), axis = 1)\n"
     ]
    }
   ],
   "source": [
    "\n",
    "df_9['country'] = df_9.progress_apply(lambda row: get_country(row), axis = 1)"
   ]
  },
  {
   "cell_type": "code",
   "execution_count": 136,
   "metadata": {},
   "outputs": [],
   "source": [
    "time.sleep(10)"
   ]
  },
  {
   "cell_type": "code",
   "execution_count": 138,
   "metadata": {},
   "outputs": [
    {
     "name": "stderr",
     "output_type": "stream",
     "text": [
      "100%|██████████| 1000/1000 [13:04<00:00,  1.27it/s]\n",
      "/var/folders/66/3gn2x5sj3tlfxjp4wp1zg9n00000gn/T/ipykernel_17609/3007890529.py:2: SettingWithCopyWarning: \n",
      "A value is trying to be set on a copy of a slice from a DataFrame.\n",
      "Try using .loc[row_indexer,col_indexer] = value instead\n",
      "\n",
      "See the caveats in the documentation: https://pandas.pydata.org/pandas-docs/stable/user_guide/indexing.html#returning-a-view-versus-a-copy\n",
      "  df_8['country'] = df_8.progress_apply(lambda row: get_country(row), axis = 1)\n"
     ]
    }
   ],
   "source": [
    "time.sleep(1)\n",
    "df_8['country'] = df_8.progress_apply(lambda row: get_country(row), axis = 1)"
   ]
  },
  {
   "cell_type": "code",
   "execution_count": 141,
   "metadata": {},
   "outputs": [],
   "source": [
    "ufo_lista =[df_9,df_10,df_11,df_12,df_13,df_14,df_15,df_16,df_17,df_18]\n",
    "df_ufo_concat_1 = pd.concat(ufo_lista, ignore_index=True)"
   ]
  },
  {
   "cell_type": "code",
   "execution_count": 145,
   "metadata": {},
   "outputs": [
    {
     "data": {
      "text/html": [
       "<div>\n",
       "<style scoped>\n",
       "    .dataframe tbody tr th:only-of-type {\n",
       "        vertical-align: middle;\n",
       "    }\n",
       "\n",
       "    .dataframe tbody tr th {\n",
       "        vertical-align: top;\n",
       "    }\n",
       "\n",
       "    .dataframe thead th {\n",
       "        text-align: right;\n",
       "    }\n",
       "</style>\n",
       "<table border=\"1\" class=\"dataframe\">\n",
       "  <thead>\n",
       "    <tr style=\"text-align: right;\">\n",
       "      <th></th>\n",
       "      <th>Reportedtimestamp</th>\n",
       "      <th>eventdate</th>\n",
       "      <th>eventtime</th>\n",
       "      <th>shape</th>\n",
       "      <th>duration</th>\n",
       "      <th>witnesses</th>\n",
       "      <th>weather</th>\n",
       "      <th>firstname</th>\n",
       "      <th>lastname</th>\n",
       "      <th>latitude</th>\n",
       "      <th>longitude</th>\n",
       "      <th>sighting</th>\n",
       "      <th>physicalevidence</th>\n",
       "      <th>contact</th>\n",
       "      <th>researchoutcome</th>\n",
       "      <th>geom</th>\n",
       "      <th>country</th>\n",
       "    </tr>\n",
       "  </thead>\n",
       "  <tbody>\n",
       "    <tr>\n",
       "      <th>0</th>\n",
       "      <td>1985-02-20T01:08:40.599Z</td>\n",
       "      <td>1985-02-17</td>\n",
       "      <td>12:10</td>\n",
       "      <td>circle</td>\n",
       "      <td>23</td>\n",
       "      <td>5</td>\n",
       "      <td>partly cloudy</td>\n",
       "      <td>Elisha</td>\n",
       "      <td>Herzog</td>\n",
       "      <td>43.743889</td>\n",
       "      <td>-85.297222</td>\n",
       "      <td>Y</td>\n",
       "      <td>Y</td>\n",
       "      <td>N</td>\n",
       "      <td>explained</td>\n",
       "      <td>(43.7438889, -85.2972222)</td>\n",
       "      <td>United States</td>\n",
       "    </tr>\n",
       "    <tr>\n",
       "      <th>1</th>\n",
       "      <td>1981-08-09T01:45:24.768Z</td>\n",
       "      <td>1981-08-07</td>\n",
       "      <td>04:16</td>\n",
       "      <td>circle</td>\n",
       "      <td>92</td>\n",
       "      <td>5</td>\n",
       "      <td>clear</td>\n",
       "      <td>Emerson</td>\n",
       "      <td>Kohler</td>\n",
       "      <td>52.466667</td>\n",
       "      <td>-1.916667</td>\n",
       "      <td>Y</td>\n",
       "      <td>N</td>\n",
       "      <td>N</td>\n",
       "      <td>explained</td>\n",
       "      <td>(52.466667, -1.916667)</td>\n",
       "      <td>United States</td>\n",
       "    </tr>\n",
       "    <tr>\n",
       "      <th>2</th>\n",
       "      <td>1978-04-27T08:54:31.003Z</td>\n",
       "      <td>1978-04-25</td>\n",
       "      <td>05:55</td>\n",
       "      <td>disk</td>\n",
       "      <td>19</td>\n",
       "      <td>5</td>\n",
       "      <td>snow</td>\n",
       "      <td>Ernestine</td>\n",
       "      <td>Funk</td>\n",
       "      <td>44.782500</td>\n",
       "      <td>-69.383889</td>\n",
       "      <td>Y</td>\n",
       "      <td>N</td>\n",
       "      <td>N</td>\n",
       "      <td>explained</td>\n",
       "      <td>(44.7825, -69.3838889)</td>\n",
       "      <td>United States</td>\n",
       "    </tr>\n",
       "    <tr>\n",
       "      <th>3</th>\n",
       "      <td>1983-04-06T16:36:22.375Z</td>\n",
       "      <td>1983-04-03</td>\n",
       "      <td>11:27</td>\n",
       "      <td>triangle</td>\n",
       "      <td>24</td>\n",
       "      <td>5</td>\n",
       "      <td>fog</td>\n",
       "      <td>Wendy</td>\n",
       "      <td>Cummings</td>\n",
       "      <td>25.773889</td>\n",
       "      <td>-80.193889</td>\n",
       "      <td>Y</td>\n",
       "      <td>N</td>\n",
       "      <td>N</td>\n",
       "      <td>probable</td>\n",
       "      <td>(25.7738889, -80.1938889)</td>\n",
       "      <td>United States</td>\n",
       "    </tr>\n",
       "    <tr>\n",
       "      <th>4</th>\n",
       "      <td>1995-01-20T01:01:36.700Z</td>\n",
       "      <td>1995-01-19</td>\n",
       "      <td>20:43</td>\n",
       "      <td>disk</td>\n",
       "      <td>89</td>\n",
       "      <td>5</td>\n",
       "      <td>fog</td>\n",
       "      <td>Cheyanne</td>\n",
       "      <td>Gorczany</td>\n",
       "      <td>37.775000</td>\n",
       "      <td>-122.418333</td>\n",
       "      <td>Y</td>\n",
       "      <td>N</td>\n",
       "      <td>N</td>\n",
       "      <td>explained</td>\n",
       "      <td>(37.775, -122.4183333)</td>\n",
       "      <td>United States</td>\n",
       "    </tr>\n",
       "  </tbody>\n",
       "</table>\n",
       "</div>"
      ],
      "text/plain": [
       "          Reportedtimestamp   eventdate eventtime     shape  duration  \\\n",
       "0  1985-02-20T01:08:40.599Z  1985-02-17     12:10    circle        23   \n",
       "1  1981-08-09T01:45:24.768Z  1981-08-07     04:16    circle        92   \n",
       "2  1978-04-27T08:54:31.003Z  1978-04-25     05:55      disk        19   \n",
       "3  1983-04-06T16:36:22.375Z  1983-04-03     11:27  triangle        24   \n",
       "4  1995-01-20T01:01:36.700Z  1995-01-19     20:43      disk        89   \n",
       "\n",
       "   witnesses        weather  firstname  lastname   latitude   longitude  \\\n",
       "0          5  partly cloudy     Elisha    Herzog  43.743889  -85.297222   \n",
       "1          5          clear    Emerson    Kohler  52.466667   -1.916667   \n",
       "2          5           snow  Ernestine      Funk  44.782500  -69.383889   \n",
       "3          5            fog      Wendy  Cummings  25.773889  -80.193889   \n",
       "4          5            fog   Cheyanne  Gorczany  37.775000 -122.418333   \n",
       "\n",
       "  sighting physicalevidence contact researchoutcome  \\\n",
       "0        Y                Y       N       explained   \n",
       "1        Y                N       N       explained   \n",
       "2        Y                N       N       explained   \n",
       "3        Y                N       N        probable   \n",
       "4        Y                N       N       explained   \n",
       "\n",
       "                        geom        country  \n",
       "0  (43.7438889, -85.2972222)  United States  \n",
       "1     (52.466667, -1.916667)  United States  \n",
       "2     (44.7825, -69.3838889)  United States  \n",
       "3  (25.7738889, -80.1938889)  United States  \n",
       "4     (37.775, -122.4183333)  United States  "
      ]
     },
     "execution_count": 145,
     "metadata": {},
     "output_type": "execute_result"
    }
   ],
   "source": [
    "df_ufo_concat_1.head()"
   ]
  },
  {
   "cell_type": "code",
   "execution_count": 146,
   "metadata": {},
   "outputs": [],
   "source": [
    "df_ufo_concat_1.to_csv(\"UFO_concat_1\")"
   ]
  },
  {
   "cell_type": "code",
   "execution_count": 147,
   "metadata": {},
   "outputs": [
    {
     "name": "stderr",
     "output_type": "stream",
     "text": [
      "100%|██████████| 1000/1000 [08:26<00:00,  1.98it/s]\n",
      "/var/folders/66/3gn2x5sj3tlfxjp4wp1zg9n00000gn/T/ipykernel_17609/2487671719.py:2: SettingWithCopyWarning: \n",
      "A value is trying to be set on a copy of a slice from a DataFrame.\n",
      "Try using .loc[row_indexer,col_indexer] = value instead\n",
      "\n",
      "See the caveats in the documentation: https://pandas.pydata.org/pandas-docs/stable/user_guide/indexing.html#returning-a-view-versus-a-copy\n",
      "  df_7['country'] = df_7.progress_apply(lambda row: get_country(row), axis = 1)\n"
     ]
    }
   ],
   "source": [
    "time.sleep(1)\n",
    "df_7['country'] = df_7.progress_apply(lambda row: get_country(row), axis = 1)"
   ]
  },
  {
   "cell_type": "code",
   "execution_count": 148,
   "metadata": {},
   "outputs": [
    {
     "name": "stderr",
     "output_type": "stream",
     "text": [
      "100%|██████████| 1000/1000 [08:19<00:00,  2.00it/s]\n",
      "/var/folders/66/3gn2x5sj3tlfxjp4wp1zg9n00000gn/T/ipykernel_17609/1548996053.py:2: SettingWithCopyWarning: \n",
      "A value is trying to be set on a copy of a slice from a DataFrame.\n",
      "Try using .loc[row_indexer,col_indexer] = value instead\n",
      "\n",
      "See the caveats in the documentation: https://pandas.pydata.org/pandas-docs/stable/user_guide/indexing.html#returning-a-view-versus-a-copy\n",
      "  df_6['country'] = df_6.progress_apply(lambda row: get_country(row), axis = 1)\n"
     ]
    }
   ],
   "source": [
    "time.sleep(1)\n",
    "df_6['country'] = df_6.progress_apply(lambda row: get_country(row), axis = 1)"
   ]
  },
  {
   "cell_type": "code",
   "execution_count": 149,
   "metadata": {},
   "outputs": [
    {
     "name": "stderr",
     "output_type": "stream",
     "text": [
      "100%|██████████| 1000/1000 [08:21<00:00,  2.00it/s]\n",
      "/var/folders/66/3gn2x5sj3tlfxjp4wp1zg9n00000gn/T/ipykernel_17609/3232667081.py:2: SettingWithCopyWarning: \n",
      "A value is trying to be set on a copy of a slice from a DataFrame.\n",
      "Try using .loc[row_indexer,col_indexer] = value instead\n",
      "\n",
      "See the caveats in the documentation: https://pandas.pydata.org/pandas-docs/stable/user_guide/indexing.html#returning-a-view-versus-a-copy\n",
      "  df_5['country'] = df_5.progress_apply(lambda row: get_country(row), axis = 1)\n"
     ]
    }
   ],
   "source": [
    "time.sleep(1)\n",
    "df_5['country'] = df_5.progress_apply(lambda row: get_country(row), axis = 1)"
   ]
  },
  {
   "cell_type": "code",
   "execution_count": 150,
   "metadata": {},
   "outputs": [
    {
     "name": "stderr",
     "output_type": "stream",
     "text": [
      "100%|██████████| 1000/1000 [08:21<00:00,  1.99it/s]\n",
      "/var/folders/66/3gn2x5sj3tlfxjp4wp1zg9n00000gn/T/ipykernel_17609/1249446618.py:2: SettingWithCopyWarning: \n",
      "A value is trying to be set on a copy of a slice from a DataFrame.\n",
      "Try using .loc[row_indexer,col_indexer] = value instead\n",
      "\n",
      "See the caveats in the documentation: https://pandas.pydata.org/pandas-docs/stable/user_guide/indexing.html#returning-a-view-versus-a-copy\n",
      "  df_4['country'] = df_4.progress_apply(lambda row: get_country(row), axis = 1)\n"
     ]
    }
   ],
   "source": [
    "time.sleep(1)\n",
    "df_4['country'] = df_4.progress_apply(lambda row: get_country(row), axis = 1)"
   ]
  },
  {
   "cell_type": "code",
   "execution_count": 151,
   "metadata": {},
   "outputs": [
    {
     "name": "stderr",
     "output_type": "stream",
     "text": [
      "100%|██████████| 1000/1000 [08:31<00:00,  1.95it/s]\n",
      "/var/folders/66/3gn2x5sj3tlfxjp4wp1zg9n00000gn/T/ipykernel_17609/1100513032.py:2: SettingWithCopyWarning: \n",
      "A value is trying to be set on a copy of a slice from a DataFrame.\n",
      "Try using .loc[row_indexer,col_indexer] = value instead\n",
      "\n",
      "See the caveats in the documentation: https://pandas.pydata.org/pandas-docs/stable/user_guide/indexing.html#returning-a-view-versus-a-copy\n",
      "  df_3['country'] = df_3.progress_apply(lambda row: get_country(row), axis = 1)\n"
     ]
    }
   ],
   "source": [
    "time.sleep(1)\n",
    "df_3['country'] = df_3.progress_apply(lambda row: get_country(row), axis = 1)"
   ]
  },
  {
   "cell_type": "code",
   "execution_count": 152,
   "metadata": {},
   "outputs": [
    {
     "name": "stderr",
     "output_type": "stream",
     "text": [
      "100%|██████████| 1000/1000 [08:23<00:00,  1.99it/s]\n",
      "/var/folders/66/3gn2x5sj3tlfxjp4wp1zg9n00000gn/T/ipykernel_17609/3410886289.py:2: SettingWithCopyWarning: \n",
      "A value is trying to be set on a copy of a slice from a DataFrame.\n",
      "Try using .loc[row_indexer,col_indexer] = value instead\n",
      "\n",
      "See the caveats in the documentation: https://pandas.pydata.org/pandas-docs/stable/user_guide/indexing.html#returning-a-view-versus-a-copy\n",
      "  df_2['country'] = df_2.progress_apply(lambda row: get_country(row), axis = 1)\n"
     ]
    }
   ],
   "source": [
    "time.sleep(1)\n",
    "df_2['country'] = df_2.progress_apply(lambda row: get_country(row), axis = 1)"
   ]
  },
  {
   "cell_type": "code",
   "execution_count": 153,
   "metadata": {},
   "outputs": [
    {
     "name": "stderr",
     "output_type": "stream",
     "text": [
      "100%|██████████| 1000/1000 [08:19<00:00,  2.00it/s]\n",
      "/var/folders/66/3gn2x5sj3tlfxjp4wp1zg9n00000gn/T/ipykernel_17609/1294625598.py:2: SettingWithCopyWarning: \n",
      "A value is trying to be set on a copy of a slice from a DataFrame.\n",
      "Try using .loc[row_indexer,col_indexer] = value instead\n",
      "\n",
      "See the caveats in the documentation: https://pandas.pydata.org/pandas-docs/stable/user_guide/indexing.html#returning-a-view-versus-a-copy\n",
      "  df_1['country'] = df_1.progress_apply(lambda row: get_country(row), axis = 1)\n"
     ]
    }
   ],
   "source": [
    "time.sleep(1)\n",
    "df_1['country'] = df_1.progress_apply(lambda row: get_country(row), axis = 1)"
   ]
  },
  {
   "cell_type": "code",
   "execution_count": 154,
   "metadata": {},
   "outputs": [],
   "source": [
    "ufo_lista =[df_1,df_2,df_3,df_4,df_5,df_6,df_7,df_8,df_9,df_10,df_11,df_12,df_13,df_14,df_15,df_16,df_17,df_18]\n",
    "df_ufo_concat_1 = pd.concat(ufo_lista, ignore_index=True)"
   ]
  },
  {
   "cell_type": "code",
   "execution_count": 156,
   "metadata": {},
   "outputs": [],
   "source": [
    "df_ufo_concat_1.to_csv(\"UFO_concat.csv\")"
   ]
  },
  {
   "cell_type": "code",
   "execution_count": 158,
   "metadata": {},
   "outputs": [
    {
     "data": {
      "text/html": [
       "<div>\n",
       "<style scoped>\n",
       "    .dataframe tbody tr th:only-of-type {\n",
       "        vertical-align: middle;\n",
       "    }\n",
       "\n",
       "    .dataframe tbody tr th {\n",
       "        vertical-align: top;\n",
       "    }\n",
       "\n",
       "    .dataframe thead th {\n",
       "        text-align: right;\n",
       "    }\n",
       "</style>\n",
       "<table border=\"1\" class=\"dataframe\">\n",
       "  <thead>\n",
       "    <tr style=\"text-align: right;\">\n",
       "      <th></th>\n",
       "      <th>Reportedtimestamp</th>\n",
       "      <th>eventdate</th>\n",
       "      <th>eventtime</th>\n",
       "      <th>shape</th>\n",
       "      <th>duration</th>\n",
       "      <th>witnesses</th>\n",
       "      <th>weather</th>\n",
       "      <th>firstname</th>\n",
       "      <th>lastname</th>\n",
       "      <th>latitude</th>\n",
       "      <th>longitude</th>\n",
       "      <th>sighting</th>\n",
       "      <th>physicalevidence</th>\n",
       "      <th>contact</th>\n",
       "      <th>researchoutcome</th>\n",
       "      <th>geom</th>\n",
       "      <th>country</th>\n",
       "    </tr>\n",
       "  </thead>\n",
       "  <tbody>\n",
       "    <tr>\n",
       "      <th>0</th>\n",
       "      <td>1977-04-04T04:02:23.340Z</td>\n",
       "      <td>1977-03-31</td>\n",
       "      <td>23:46</td>\n",
       "      <td>circle</td>\n",
       "      <td>4</td>\n",
       "      <td>1</td>\n",
       "      <td>rain</td>\n",
       "      <td>Ila</td>\n",
       "      <td>Bashirian</td>\n",
       "      <td>47.329444</td>\n",
       "      <td>-122.578889</td>\n",
       "      <td>Y</td>\n",
       "      <td>N</td>\n",
       "      <td>N</td>\n",
       "      <td>explained</td>\n",
       "      <td>('47.3294444', '-122.5788889')</td>\n",
       "      <td>United States</td>\n",
       "    </tr>\n",
       "    <tr>\n",
       "      <th>1</th>\n",
       "      <td>1982-11-22T02:06:32.019Z</td>\n",
       "      <td>1982-11-15</td>\n",
       "      <td>22:04</td>\n",
       "      <td>disk</td>\n",
       "      <td>4</td>\n",
       "      <td>1</td>\n",
       "      <td>partly cloudy</td>\n",
       "      <td>Eriberto</td>\n",
       "      <td>Runolfsson</td>\n",
       "      <td>52.664913</td>\n",
       "      <td>-1.034894</td>\n",
       "      <td>Y</td>\n",
       "      <td>Y</td>\n",
       "      <td>N</td>\n",
       "      <td>explained</td>\n",
       "      <td>('52.664913', '-1.034894')</td>\n",
       "      <td>United States</td>\n",
       "    </tr>\n",
       "    <tr>\n",
       "      <th>2</th>\n",
       "      <td>1992-12-07T19:06:52.482Z</td>\n",
       "      <td>1992-12-07</td>\n",
       "      <td>19:01</td>\n",
       "      <td>circle</td>\n",
       "      <td>49</td>\n",
       "      <td>1</td>\n",
       "      <td>clear</td>\n",
       "      <td>Miller</td>\n",
       "      <td>Watsica</td>\n",
       "      <td>38.951667</td>\n",
       "      <td>-92.333889</td>\n",
       "      <td>Y</td>\n",
       "      <td>N</td>\n",
       "      <td>N</td>\n",
       "      <td>explained</td>\n",
       "      <td>('38.9516667', '-92.3338889')</td>\n",
       "      <td>United States</td>\n",
       "    </tr>\n",
       "    <tr>\n",
       "      <th>3</th>\n",
       "      <td>2011-02-24T21:06:34.898Z</td>\n",
       "      <td>2011-02-21</td>\n",
       "      <td>20:56</td>\n",
       "      <td>disk</td>\n",
       "      <td>13</td>\n",
       "      <td>1</td>\n",
       "      <td>partly cloudy</td>\n",
       "      <td>Clifton</td>\n",
       "      <td>Bechtelar</td>\n",
       "      <td>41.496944</td>\n",
       "      <td>-71.367778</td>\n",
       "      <td>Y</td>\n",
       "      <td>N</td>\n",
       "      <td>N</td>\n",
       "      <td>explained</td>\n",
       "      <td>('41.4969444', '-71.3677778')</td>\n",
       "      <td>United States</td>\n",
       "    </tr>\n",
       "    <tr>\n",
       "      <th>4</th>\n",
       "      <td>1991-03-09T16:18:45.501Z</td>\n",
       "      <td>1991-03-09</td>\n",
       "      <td>11:42</td>\n",
       "      <td>circle</td>\n",
       "      <td>17</td>\n",
       "      <td>1</td>\n",
       "      <td>mostly cloudy</td>\n",
       "      <td>Jayda</td>\n",
       "      <td>Ebert</td>\n",
       "      <td>47.606389</td>\n",
       "      <td>-122.330833</td>\n",
       "      <td>Y</td>\n",
       "      <td>N</td>\n",
       "      <td>N</td>\n",
       "      <td>explained</td>\n",
       "      <td>('47.6063889', '-122.3308333')</td>\n",
       "      <td>United States</td>\n",
       "    </tr>\n",
       "    <tr>\n",
       "      <th>...</th>\n",
       "      <td>...</td>\n",
       "      <td>...</td>\n",
       "      <td>...</td>\n",
       "      <td>...</td>\n",
       "      <td>...</td>\n",
       "      <td>...</td>\n",
       "      <td>...</td>\n",
       "      <td>...</td>\n",
       "      <td>...</td>\n",
       "      <td>...</td>\n",
       "      <td>...</td>\n",
       "      <td>...</td>\n",
       "      <td>...</td>\n",
       "      <td>...</td>\n",
       "      <td>...</td>\n",
       "      <td>...</td>\n",
       "      <td>...</td>\n",
       "    </tr>\n",
       "    <tr>\n",
       "      <th>17995</th>\n",
       "      <td>2019-01-18T14:41:45.346Z</td>\n",
       "      <td>2019-01-14</td>\n",
       "      <td>07:25</td>\n",
       "      <td>square</td>\n",
       "      <td>95</td>\n",
       "      <td>10</td>\n",
       "      <td>snow</td>\n",
       "      <td>Taryn</td>\n",
       "      <td>Osinski</td>\n",
       "      <td>42.033333</td>\n",
       "      <td>-87.733333</td>\n",
       "      <td>Y</td>\n",
       "      <td>N</td>\n",
       "      <td>N</td>\n",
       "      <td>unexplained</td>\n",
       "      <td>('42.0333333', '-87.7333333')</td>\n",
       "      <td>United States</td>\n",
       "    </tr>\n",
       "    <tr>\n",
       "      <th>17996</th>\n",
       "      <td>2016-09-20T23:24:30.488Z</td>\n",
       "      <td>2016-09-14</td>\n",
       "      <td>13:27</td>\n",
       "      <td>circle</td>\n",
       "      <td>55</td>\n",
       "      <td>10</td>\n",
       "      <td>stormy</td>\n",
       "      <td>Derick</td>\n",
       "      <td>Pouros</td>\n",
       "      <td>43.004444</td>\n",
       "      <td>-71.348889</td>\n",
       "      <td>Y</td>\n",
       "      <td>N</td>\n",
       "      <td>N</td>\n",
       "      <td>explained</td>\n",
       "      <td>('43.0044444', '-71.3488889')</td>\n",
       "      <td>United States</td>\n",
       "    </tr>\n",
       "    <tr>\n",
       "      <th>17997</th>\n",
       "      <td>1977-03-10T13:48:27.305Z</td>\n",
       "      <td>1977-03-06</td>\n",
       "      <td>21:59</td>\n",
       "      <td>circle</td>\n",
       "      <td>39</td>\n",
       "      <td>10</td>\n",
       "      <td>partly cloudy</td>\n",
       "      <td>Judah</td>\n",
       "      <td>Purdy</td>\n",
       "      <td>36.866389</td>\n",
       "      <td>-83.888889</td>\n",
       "      <td>Y</td>\n",
       "      <td>N</td>\n",
       "      <td>N</td>\n",
       "      <td>explained</td>\n",
       "      <td>('36.8663889', '-83.8888889')</td>\n",
       "      <td>United States</td>\n",
       "    </tr>\n",
       "    <tr>\n",
       "      <th>17998</th>\n",
       "      <td>1971-07-23T13:22:36.190Z</td>\n",
       "      <td>1971-07-18</td>\n",
       "      <td>13:59</td>\n",
       "      <td>square</td>\n",
       "      <td>28</td>\n",
       "      <td>10</td>\n",
       "      <td>snow</td>\n",
       "      <td>Imelda</td>\n",
       "      <td>Botsford</td>\n",
       "      <td>35.385833</td>\n",
       "      <td>-94.398333</td>\n",
       "      <td>Y</td>\n",
       "      <td>N</td>\n",
       "      <td>N</td>\n",
       "      <td>unexplained</td>\n",
       "      <td>('35.3858333', '-94.3983333')</td>\n",
       "      <td>United States</td>\n",
       "    </tr>\n",
       "    <tr>\n",
       "      <th>17999</th>\n",
       "      <td>2008-11-28T02:19:45.532Z</td>\n",
       "      <td>2008-11-27</td>\n",
       "      <td>15:37</td>\n",
       "      <td>circle</td>\n",
       "      <td>38</td>\n",
       "      <td>10</td>\n",
       "      <td>snow</td>\n",
       "      <td>Lia</td>\n",
       "      <td>Oberbrunner</td>\n",
       "      <td>29.883056</td>\n",
       "      <td>-97.941111</td>\n",
       "      <td>Y</td>\n",
       "      <td>N</td>\n",
       "      <td>N</td>\n",
       "      <td>explained</td>\n",
       "      <td>('29.8830556', '-97.9411111')</td>\n",
       "      <td>United States</td>\n",
       "    </tr>\n",
       "  </tbody>\n",
       "</table>\n",
       "<p>18000 rows × 17 columns</p>\n",
       "</div>"
      ],
      "text/plain": [
       "              Reportedtimestamp   eventdate eventtime   shape  duration  \\\n",
       "0      1977-04-04T04:02:23.340Z  1977-03-31     23:46  circle         4   \n",
       "1      1982-11-22T02:06:32.019Z  1982-11-15     22:04    disk         4   \n",
       "2      1992-12-07T19:06:52.482Z  1992-12-07     19:01  circle        49   \n",
       "3      2011-02-24T21:06:34.898Z  2011-02-21     20:56    disk        13   \n",
       "4      1991-03-09T16:18:45.501Z  1991-03-09     11:42  circle        17   \n",
       "...                         ...         ...       ...     ...       ...   \n",
       "17995  2019-01-18T14:41:45.346Z  2019-01-14     07:25  square        95   \n",
       "17996  2016-09-20T23:24:30.488Z  2016-09-14     13:27  circle        55   \n",
       "17997  1977-03-10T13:48:27.305Z  1977-03-06     21:59  circle        39   \n",
       "17998  1971-07-23T13:22:36.190Z  1971-07-18     13:59  square        28   \n",
       "17999  2008-11-28T02:19:45.532Z  2008-11-27     15:37  circle        38   \n",
       "\n",
       "       witnesses        weather firstname     lastname   latitude   longitude  \\\n",
       "0              1           rain       Ila    Bashirian  47.329444 -122.578889   \n",
       "1              1  partly cloudy  Eriberto   Runolfsson  52.664913   -1.034894   \n",
       "2              1          clear    Miller      Watsica  38.951667  -92.333889   \n",
       "3              1  partly cloudy   Clifton    Bechtelar  41.496944  -71.367778   \n",
       "4              1  mostly cloudy     Jayda        Ebert  47.606389 -122.330833   \n",
       "...          ...            ...       ...          ...        ...         ...   \n",
       "17995         10           snow     Taryn      Osinski  42.033333  -87.733333   \n",
       "17996         10         stormy    Derick       Pouros  43.004444  -71.348889   \n",
       "17997         10  partly cloudy     Judah        Purdy  36.866389  -83.888889   \n",
       "17998         10           snow    Imelda     Botsford  35.385833  -94.398333   \n",
       "17999         10           snow       Lia  Oberbrunner  29.883056  -97.941111   \n",
       "\n",
       "      sighting physicalevidence contact researchoutcome  \\\n",
       "0            Y                N       N       explained   \n",
       "1            Y                Y       N       explained   \n",
       "2            Y                N       N       explained   \n",
       "3            Y                N       N       explained   \n",
       "4            Y                N       N       explained   \n",
       "...        ...              ...     ...             ...   \n",
       "17995        Y                N       N     unexplained   \n",
       "17996        Y                N       N       explained   \n",
       "17997        Y                N       N       explained   \n",
       "17998        Y                N       N     unexplained   \n",
       "17999        Y                N       N       explained   \n",
       "\n",
       "                                 geom        country  \n",
       "0      ('47.3294444', '-122.5788889')  United States  \n",
       "1          ('52.664913', '-1.034894')  United States  \n",
       "2       ('38.9516667', '-92.3338889')  United States  \n",
       "3       ('41.4969444', '-71.3677778')  United States  \n",
       "4      ('47.6063889', '-122.3308333')  United States  \n",
       "...                               ...            ...  \n",
       "17995   ('42.0333333', '-87.7333333')  United States  \n",
       "17996   ('43.0044444', '-71.3488889')  United States  \n",
       "17997   ('36.8663889', '-83.8888889')  United States  \n",
       "17998   ('35.3858333', '-94.3983333')  United States  \n",
       "17999   ('29.8830556', '-97.9411111')  United States  \n",
       "\n",
       "[18000 rows x 17 columns]"
      ]
     },
     "execution_count": 158,
     "metadata": {},
     "output_type": "execute_result"
    }
   ],
   "source": [
    "df_20 = pd.read_csv(\"UFO_concat.csv\",index_col=0)\n",
    "df_20"
   ]
  },
  {
   "cell_type": "code",
   "execution_count": 159,
   "metadata": {},
   "outputs": [
    {
     "data": {
      "text/plain": [
       "array(['United States'], dtype=object)"
      ]
     },
     "execution_count": 159,
     "metadata": {},
     "output_type": "execute_result"
    }
   ],
   "source": [
    "df_20[\"country\"].unique()"
   ]
  },
  {
   "cell_type": "code",
   "execution_count": null,
   "metadata": {},
   "outputs": [],
   "source": []
  }
 ],
 "metadata": {
  "kernelspec": {
   "display_name": "Python 3.9.7 ('base')",
   "language": "python",
   "name": "python3"
  },
  "language_info": {
   "codemirror_mode": {
    "name": "ipython",
    "version": 3
   },
   "file_extension": ".py",
   "mimetype": "text/x-python",
   "name": "python",
   "nbconvert_exporter": "python",
   "pygments_lexer": "ipython3",
   "version": "3.9.7"
  },
  "orig_nbformat": 4,
  "vscode": {
   "interpreter": {
    "hash": "651c3b7b3f466eb030aa737f279c846be4db9cba49a2f229278cab5e41121ed5"
   }
  }
 },
 "nbformat": 4,
 "nbformat_minor": 2
}

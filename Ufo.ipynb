{
 "cells": [
  {
   "cell_type": "code",
   "execution_count": 1,
   "metadata": {},
   "outputs": [],
   "source": [
    "import pandas as pd\n",
    "import numpy as np  "
   ]
  },
  {
   "cell_type": "code",
   "execution_count": 2,
   "metadata": {},
   "outputs": [],
   "source": [
    "df = pd.read_csv(\"ufo_fullset.csv\")"
   ]
  },
  {
   "cell_type": "code",
   "execution_count": 3,
   "metadata": {},
   "outputs": [
    {
     "data": {
      "text/plain": [
       "Index(['reportedTimestamp,\"eventDate\",\"eventTime\",\"shape\",\"duration\",\"witnesses\",\"weather\",\"firstName\",\"lastName\",\"latitude\",\"longitude\",\"sighting\",\"physicalEvidence\",\"contact\",\"researchOutcome\"'], dtype='object')"
      ]
     },
     "execution_count": 3,
     "metadata": {},
     "output_type": "execute_result"
    }
   ],
   "source": [
    "df.columns"
   ]
  },
  {
   "cell_type": "code",
   "execution_count": 4,
   "metadata": {},
   "outputs": [],
   "source": [
    "#Cambiamos el nombre de las columnas y cambiamos los espacios por _\n",
    "columnas_nuevas = {col :  col.capitalize().replace('\"', \"\") for col in df.columns}\n",
    "df.rename(columns = columnas_nuevas, inplace = True)"
   ]
  },
  {
   "cell_type": "code",
   "execution_count": 5,
   "metadata": {},
   "outputs": [
    {
     "data": {
      "text/html": [
       "<div>\n",
       "<style scoped>\n",
       "    .dataframe tbody tr th:only-of-type {\n",
       "        vertical-align: middle;\n",
       "    }\n",
       "\n",
       "    .dataframe tbody tr th {\n",
       "        vertical-align: top;\n",
       "    }\n",
       "\n",
       "    .dataframe thead th {\n",
       "        text-align: right;\n",
       "    }\n",
       "</style>\n",
       "<table border=\"1\" class=\"dataframe\">\n",
       "  <thead>\n",
       "    <tr style=\"text-align: right;\">\n",
       "      <th></th>\n",
       "      <th>Reportedtimestamp,eventdate,eventtime,shape,duration,witnesses,weather,firstname,lastname,latitude,longitude,sighting,physicalevidence,contact,researchoutcome</th>\n",
       "    </tr>\n",
       "  </thead>\n",
       "  <tbody>\n",
       "    <tr>\n",
       "      <th>0</th>\n",
       "      <td>1977-04-04T04:02:23.340Z,\"1977-03-31\",\"23:46\",...</td>\n",
       "    </tr>\n",
       "    <tr>\n",
       "      <th>1</th>\n",
       "      <td>1982-11-22T02:06:32.019Z,\"1982-11-15\",\"22:04\",...</td>\n",
       "    </tr>\n",
       "    <tr>\n",
       "      <th>2</th>\n",
       "      <td>1992-12-07T19:06:52.482Z,\"1992-12-07\",\"19:01\",...</td>\n",
       "    </tr>\n",
       "    <tr>\n",
       "      <th>3</th>\n",
       "      <td>2011-02-24T21:06:34.898Z,\"2011-02-21\",\"20:56\",...</td>\n",
       "    </tr>\n",
       "    <tr>\n",
       "      <th>4</th>\n",
       "      <td>1991-03-09T16:18:45.501Z,\"1991-03-09\",\"11:42\",...</td>\n",
       "    </tr>\n",
       "    <tr>\n",
       "      <th>...</th>\n",
       "      <td>...</td>\n",
       "    </tr>\n",
       "    <tr>\n",
       "      <th>17995</th>\n",
       "      <td>2019-01-18T14:41:45.346Z,\"2019-01-14\",\"07:25\",...</td>\n",
       "    </tr>\n",
       "    <tr>\n",
       "      <th>17996</th>\n",
       "      <td>2016-09-20T23:24:30.488Z,\"2016-09-14\",\"13:27\",...</td>\n",
       "    </tr>\n",
       "    <tr>\n",
       "      <th>17997</th>\n",
       "      <td>1977-03-10T13:48:27.305Z,\"1977-03-06\",\"21:59\",...</td>\n",
       "    </tr>\n",
       "    <tr>\n",
       "      <th>17998</th>\n",
       "      <td>1971-07-23T13:22:36.190Z,\"1971-07-18\",\"13:59\",...</td>\n",
       "    </tr>\n",
       "    <tr>\n",
       "      <th>17999</th>\n",
       "      <td>2008-11-28T02:19:45.532Z,\"2008-11-27\",\"15:37\",...</td>\n",
       "    </tr>\n",
       "  </tbody>\n",
       "</table>\n",
       "<p>18000 rows × 1 columns</p>\n",
       "</div>"
      ],
      "text/plain": [
       "      Reportedtimestamp,eventdate,eventtime,shape,duration,witnesses,weather,firstname,lastname,latitude,longitude,sighting,physicalevidence,contact,researchoutcome\n",
       "0      1977-04-04T04:02:23.340Z,\"1977-03-31\",\"23:46\",...                                                                                                            \n",
       "1      1982-11-22T02:06:32.019Z,\"1982-11-15\",\"22:04\",...                                                                                                            \n",
       "2      1992-12-07T19:06:52.482Z,\"1992-12-07\",\"19:01\",...                                                                                                            \n",
       "3      2011-02-24T21:06:34.898Z,\"2011-02-21\",\"20:56\",...                                                                                                            \n",
       "4      1991-03-09T16:18:45.501Z,\"1991-03-09\",\"11:42\",...                                                                                                            \n",
       "...                                                  ...                                                                                                            \n",
       "17995  2019-01-18T14:41:45.346Z,\"2019-01-14\",\"07:25\",...                                                                                                            \n",
       "17996  2016-09-20T23:24:30.488Z,\"2016-09-14\",\"13:27\",...                                                                                                            \n",
       "17997  1977-03-10T13:48:27.305Z,\"1977-03-06\",\"21:59\",...                                                                                                            \n",
       "17998  1971-07-23T13:22:36.190Z,\"1971-07-18\",\"13:59\",...                                                                                                            \n",
       "17999  2008-11-28T02:19:45.532Z,\"2008-11-27\",\"15:37\",...                                                                                                            \n",
       "\n",
       "[18000 rows x 1 columns]"
      ]
     },
     "execution_count": 5,
     "metadata": {},
     "output_type": "execute_result"
    }
   ],
   "source": [
    "df"
   ]
  },
  {
   "cell_type": "code",
   "execution_count": 229,
   "metadata": {},
   "outputs": [
    {
     "data": {
      "text/plain": [
       "Index(['id', 'Latitude', 'Longitude', 'address'], dtype='object')"
      ]
     },
     "execution_count": 229,
     "metadata": {},
     "output_type": "execute_result"
    }
   ],
   "source": [
    "df.columns"
   ]
  },
  {
   "cell_type": "code",
   "execution_count": 7,
   "metadata": {},
   "outputs": [],
   "source": [
    "df['Reportedtimestamp,eventdate,eventtime,shape,duration,witnesses,weather,firstname,lastname,latitude,longitude,sighting,physicalevidence,contact,researchoutcome'] = df['Reportedtimestamp,eventdate,eventtime,shape,duration,witnesses,weather,firstname,lastname,latitude,longitude,sighting,physicalevidence,contact,researchoutcome'].apply(lambda x: x.replace('\"',\"\") if type (x) == str else str (x))"
   ]
  },
  {
   "cell_type": "code",
   "execution_count": 8,
   "metadata": {},
   "outputs": [
    {
     "data": {
      "text/html": [
       "<div>\n",
       "<style scoped>\n",
       "    .dataframe tbody tr th:only-of-type {\n",
       "        vertical-align: middle;\n",
       "    }\n",
       "\n",
       "    .dataframe tbody tr th {\n",
       "        vertical-align: top;\n",
       "    }\n",
       "\n",
       "    .dataframe thead th {\n",
       "        text-align: right;\n",
       "    }\n",
       "</style>\n",
       "<table border=\"1\" class=\"dataframe\">\n",
       "  <thead>\n",
       "    <tr style=\"text-align: right;\">\n",
       "      <th></th>\n",
       "      <th>Reportedtimestamp,eventdate,eventtime,shape,duration,witnesses,weather,firstname,lastname,latitude,longitude,sighting,physicalevidence,contact,researchoutcome</th>\n",
       "    </tr>\n",
       "  </thead>\n",
       "  <tbody>\n",
       "    <tr>\n",
       "      <th>0</th>\n",
       "      <td>1977-04-04T04:02:23.340Z,1977-03-31,23:46,circ...</td>\n",
       "    </tr>\n",
       "    <tr>\n",
       "      <th>1</th>\n",
       "      <td>1982-11-22T02:06:32.019Z,1982-11-15,22:04,disk...</td>\n",
       "    </tr>\n",
       "    <tr>\n",
       "      <th>2</th>\n",
       "      <td>1992-12-07T19:06:52.482Z,1992-12-07,19:01,circ...</td>\n",
       "    </tr>\n",
       "    <tr>\n",
       "      <th>3</th>\n",
       "      <td>2011-02-24T21:06:34.898Z,2011-02-21,20:56,disk...</td>\n",
       "    </tr>\n",
       "    <tr>\n",
       "      <th>4</th>\n",
       "      <td>1991-03-09T16:18:45.501Z,1991-03-09,11:42,circ...</td>\n",
       "    </tr>\n",
       "    <tr>\n",
       "      <th>...</th>\n",
       "      <td>...</td>\n",
       "    </tr>\n",
       "    <tr>\n",
       "      <th>17995</th>\n",
       "      <td>2019-01-18T14:41:45.346Z,2019-01-14,07:25,squa...</td>\n",
       "    </tr>\n",
       "    <tr>\n",
       "      <th>17996</th>\n",
       "      <td>2016-09-20T23:24:30.488Z,2016-09-14,13:27,circ...</td>\n",
       "    </tr>\n",
       "    <tr>\n",
       "      <th>17997</th>\n",
       "      <td>1977-03-10T13:48:27.305Z,1977-03-06,21:59,circ...</td>\n",
       "    </tr>\n",
       "    <tr>\n",
       "      <th>17998</th>\n",
       "      <td>1971-07-23T13:22:36.190Z,1971-07-18,13:59,squa...</td>\n",
       "    </tr>\n",
       "    <tr>\n",
       "      <th>17999</th>\n",
       "      <td>2008-11-28T02:19:45.532Z,2008-11-27,15:37,circ...</td>\n",
       "    </tr>\n",
       "  </tbody>\n",
       "</table>\n",
       "<p>18000 rows × 1 columns</p>\n",
       "</div>"
      ],
      "text/plain": [
       "      Reportedtimestamp,eventdate,eventtime,shape,duration,witnesses,weather,firstname,lastname,latitude,longitude,sighting,physicalevidence,contact,researchoutcome\n",
       "0      1977-04-04T04:02:23.340Z,1977-03-31,23:46,circ...                                                                                                            \n",
       "1      1982-11-22T02:06:32.019Z,1982-11-15,22:04,disk...                                                                                                            \n",
       "2      1992-12-07T19:06:52.482Z,1992-12-07,19:01,circ...                                                                                                            \n",
       "3      2011-02-24T21:06:34.898Z,2011-02-21,20:56,disk...                                                                                                            \n",
       "4      1991-03-09T16:18:45.501Z,1991-03-09,11:42,circ...                                                                                                            \n",
       "...                                                  ...                                                                                                            \n",
       "17995  2019-01-18T14:41:45.346Z,2019-01-14,07:25,squa...                                                                                                            \n",
       "17996  2016-09-20T23:24:30.488Z,2016-09-14,13:27,circ...                                                                                                            \n",
       "17997  1977-03-10T13:48:27.305Z,1977-03-06,21:59,circ...                                                                                                            \n",
       "17998  1971-07-23T13:22:36.190Z,1971-07-18,13:59,squa...                                                                                                            \n",
       "17999  2008-11-28T02:19:45.532Z,2008-11-27,15:37,circ...                                                                                                            \n",
       "\n",
       "[18000 rows x 1 columns]"
      ]
     },
     "execution_count": 8,
     "metadata": {},
     "output_type": "execute_result"
    }
   ],
   "source": [
    "df"
   ]
  },
  {
   "cell_type": "code",
   "execution_count": null,
   "metadata": {},
   "outputs": [],
   "source": [
    "df[['Reportedtimestamp','eventdate','eventtime','shape','duration','witnesses','weather','firstname','lastname','latitude','longitude','sighting','physicalevidence','contact','researchoutcome']] = df['Reportedtimestamp,eventdate,eventtime,shape,duration,witnesses,weather,firstname,lastname,latitude,longitude,sighting,physicalevidence,contact,researchoutcome'].str.split(\",\",expand = True)\n",
    "df.head(2)"
   ]
  },
  {
   "cell_type": "code",
   "execution_count": null,
   "metadata": {},
   "outputs": [],
   "source": [
    "df.drop([\"Reportedtimestamp,eventdate,eventtime,shape,duration,witnesses,weather,firstname,lastname,latitude,longitude,sighting,physicalevidence,contact,researchoutcome\"],axis =1, inplace=True)\n",
    "df.head()"
   ]
  },
  {
   "cell_type": "code",
   "execution_count": 16,
   "metadata": {},
   "outputs": [],
   "source": [
    "df.to_csv(\"ufo_cleaned.csv\")"
   ]
  },
  {
   "cell_type": "code",
   "execution_count": 235,
   "metadata": {},
   "outputs": [
    {
     "data": {
      "text/html": [
       "<div>\n",
       "<style scoped>\n",
       "    .dataframe tbody tr th:only-of-type {\n",
       "        vertical-align: middle;\n",
       "    }\n",
       "\n",
       "    .dataframe tbody tr th {\n",
       "        vertical-align: top;\n",
       "    }\n",
       "\n",
       "    .dataframe thead th {\n",
       "        text-align: right;\n",
       "    }\n",
       "</style>\n",
       "<table border=\"1\" class=\"dataframe\">\n",
       "  <thead>\n",
       "    <tr style=\"text-align: right;\">\n",
       "      <th></th>\n",
       "      <th>Reportedtimestamp</th>\n",
       "      <th>eventdate</th>\n",
       "      <th>eventtime</th>\n",
       "      <th>shape</th>\n",
       "      <th>duration</th>\n",
       "      <th>witnesses</th>\n",
       "      <th>weather</th>\n",
       "      <th>firstname</th>\n",
       "      <th>lastname</th>\n",
       "      <th>latitude</th>\n",
       "      <th>longitude</th>\n",
       "      <th>sighting</th>\n",
       "      <th>physicalevidence</th>\n",
       "      <th>contact</th>\n",
       "      <th>researchoutcome</th>\n",
       "    </tr>\n",
       "  </thead>\n",
       "  <tbody>\n",
       "    <tr>\n",
       "      <th>10178</th>\n",
       "      <td>1983-11-18T10:18:42.596Z</td>\n",
       "      <td>1983-11-17</td>\n",
       "      <td>08:05</td>\n",
       "      <td>sphere</td>\n",
       "      <td>35</td>\n",
       "      <td>6</td>\n",
       "      <td>rain</td>\n",
       "      <td>Emery</td>\n",
       "      <td>Schmitt</td>\n",
       "      <td>37.77500</td>\n",
       "      <td>-122.418333</td>\n",
       "      <td>Y</td>\n",
       "      <td>Y</td>\n",
       "      <td>Y</td>\n",
       "      <td>probable</td>\n",
       "    </tr>\n",
       "    <tr>\n",
       "      <th>5053</th>\n",
       "      <td>1980-01-06T11:25:07.595Z</td>\n",
       "      <td>1980-01-06</td>\n",
       "      <td>00:20</td>\n",
       "      <td>circle</td>\n",
       "      <td>99</td>\n",
       "      <td>3</td>\n",
       "      <td>clear</td>\n",
       "      <td>Clair</td>\n",
       "      <td>Wehner</td>\n",
       "      <td>40.43495</td>\n",
       "      <td>49.867623</td>\n",
       "      <td>Y</td>\n",
       "      <td>N</td>\n",
       "      <td>N</td>\n",
       "      <td>explained</td>\n",
       "    </tr>\n",
       "  </tbody>\n",
       "</table>\n",
       "</div>"
      ],
      "text/plain": [
       "              Reportedtimestamp   eventdate eventtime   shape  duration  \\\n",
       "10178  1983-11-18T10:18:42.596Z  1983-11-17     08:05  sphere        35   \n",
       "5053   1980-01-06T11:25:07.595Z  1980-01-06     00:20  circle        99   \n",
       "\n",
       "       witnesses weather firstname lastname  latitude   longitude sighting  \\\n",
       "10178          6    rain     Emery  Schmitt  37.77500 -122.418333        Y   \n",
       "5053           3   clear     Clair   Wehner  40.43495   49.867623        Y   \n",
       "\n",
       "      physicalevidence contact researchoutcome  \n",
       "10178                Y       Y        probable  \n",
       "5053                 N       N       explained  "
      ]
     },
     "execution_count": 235,
     "metadata": {},
     "output_type": "execute_result"
    }
   ],
   "source": [
    "df1 = df.sample(2)\n",
    "df1"
   ]
  }
 ],
 "metadata": {
  "kernelspec": {
   "display_name": "Python 3.9.7 ('base')",
   "language": "python",
   "name": "python3"
  },
  "language_info": {
   "codemirror_mode": {
    "name": "ipython",
    "version": 3
   },
   "file_extension": ".py",
   "mimetype": "text/x-python",
   "name": "python",
   "nbconvert_exporter": "python",
   "pygments_lexer": "ipython3",
   "version": "3.9.7"
  },
  "orig_nbformat": 4,
  "vscode": {
   "interpreter": {
    "hash": "651c3b7b3f466eb030aa737f279c846be4db9cba49a2f229278cab5e41121ed5"
   }
  }
 },
 "nbformat": 4,
 "nbformat_minor": 2
}

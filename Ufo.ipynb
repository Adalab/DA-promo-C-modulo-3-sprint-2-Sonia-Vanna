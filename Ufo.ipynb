{
 "cells": [
  {
   "cell_type": "code",
   "execution_count": 105,
   "metadata": {},
   "outputs": [],
   "source": [
    "import pandas as pd\n",
    "import numpy as np  \n",
    "\n"
   ]
  },
  {
   "cell_type": "code",
   "execution_count": 106,
   "metadata": {},
   "outputs": [],
   "source": [
    "df = pd.read_csv(\"ufo_fullset.csv\")"
   ]
  },
  {
   "cell_type": "code",
   "execution_count": 107,
   "metadata": {},
   "outputs": [
    {
     "data": {
      "text/plain": [
       "Index(['reportedTimestamp,\"eventDate\",\"eventTime\",\"shape\",\"duration\",\"witnesses\",\"weather\",\"firstName\",\"lastName\",\"latitude\",\"longitude\",\"sighting\",\"physicalEvidence\",\"contact\",\"researchOutcome\"'], dtype='object')"
      ]
     },
     "execution_count": 107,
     "metadata": {},
     "output_type": "execute_result"
    }
   ],
   "source": [
    "df.columns"
   ]
  },
  {
   "cell_type": "code",
   "execution_count": 108,
   "metadata": {},
   "outputs": [],
   "source": [
    "#Cambiamos el nombre de las columnas y cambiamos los espacios por _\n",
    "columnas_nuevas = {col :  col.capitalize().replace('\"', \"\") for col in df.columns}\n",
    "df.rename(columns = columnas_nuevas, inplace = True)"
   ]
  },
  {
   "cell_type": "code",
   "execution_count": 109,
   "metadata": {},
   "outputs": [
    {
     "data": {
      "text/html": [
       "<div>\n",
       "<style scoped>\n",
       "    .dataframe tbody tr th:only-of-type {\n",
       "        vertical-align: middle;\n",
       "    }\n",
       "\n",
       "    .dataframe tbody tr th {\n",
       "        vertical-align: top;\n",
       "    }\n",
       "\n",
       "    .dataframe thead th {\n",
       "        text-align: right;\n",
       "    }\n",
       "</style>\n",
       "<table border=\"1\" class=\"dataframe\">\n",
       "  <thead>\n",
       "    <tr style=\"text-align: right;\">\n",
       "      <th></th>\n",
       "      <th>Reportedtimestamp,eventdate,eventtime,shape,duration,witnesses,weather,firstname,lastname,latitude,longitude,sighting,physicalevidence,contact,researchoutcome</th>\n",
       "    </tr>\n",
       "  </thead>\n",
       "  <tbody>\n",
       "    <tr>\n",
       "      <th>0</th>\n",
       "      <td>1977-04-04T04:02:23.340Z,\"1977-03-31\",\"23:46\",...</td>\n",
       "    </tr>\n",
       "    <tr>\n",
       "      <th>1</th>\n",
       "      <td>1982-11-22T02:06:32.019Z,\"1982-11-15\",\"22:04\",...</td>\n",
       "    </tr>\n",
       "    <tr>\n",
       "      <th>2</th>\n",
       "      <td>1992-12-07T19:06:52.482Z,\"1992-12-07\",\"19:01\",...</td>\n",
       "    </tr>\n",
       "    <tr>\n",
       "      <th>3</th>\n",
       "      <td>2011-02-24T21:06:34.898Z,\"2011-02-21\",\"20:56\",...</td>\n",
       "    </tr>\n",
       "    <tr>\n",
       "      <th>4</th>\n",
       "      <td>1991-03-09T16:18:45.501Z,\"1991-03-09\",\"11:42\",...</td>\n",
       "    </tr>\n",
       "    <tr>\n",
       "      <th>...</th>\n",
       "      <td>...</td>\n",
       "    </tr>\n",
       "    <tr>\n",
       "      <th>17995</th>\n",
       "      <td>2019-01-18T14:41:45.346Z,\"2019-01-14\",\"07:25\",...</td>\n",
       "    </tr>\n",
       "    <tr>\n",
       "      <th>17996</th>\n",
       "      <td>2016-09-20T23:24:30.488Z,\"2016-09-14\",\"13:27\",...</td>\n",
       "    </tr>\n",
       "    <tr>\n",
       "      <th>17997</th>\n",
       "      <td>1977-03-10T13:48:27.305Z,\"1977-03-06\",\"21:59\",...</td>\n",
       "    </tr>\n",
       "    <tr>\n",
       "      <th>17998</th>\n",
       "      <td>1971-07-23T13:22:36.190Z,\"1971-07-18\",\"13:59\",...</td>\n",
       "    </tr>\n",
       "    <tr>\n",
       "      <th>17999</th>\n",
       "      <td>2008-11-28T02:19:45.532Z,\"2008-11-27\",\"15:37\",...</td>\n",
       "    </tr>\n",
       "  </tbody>\n",
       "</table>\n",
       "<p>18000 rows × 1 columns</p>\n",
       "</div>"
      ],
      "text/plain": [
       "      Reportedtimestamp,eventdate,eventtime,shape,duration,witnesses,weather,firstname,lastname,latitude,longitude,sighting,physicalevidence,contact,researchoutcome\n",
       "0      1977-04-04T04:02:23.340Z,\"1977-03-31\",\"23:46\",...                                                                                                            \n",
       "1      1982-11-22T02:06:32.019Z,\"1982-11-15\",\"22:04\",...                                                                                                            \n",
       "2      1992-12-07T19:06:52.482Z,\"1992-12-07\",\"19:01\",...                                                                                                            \n",
       "3      2011-02-24T21:06:34.898Z,\"2011-02-21\",\"20:56\",...                                                                                                            \n",
       "4      1991-03-09T16:18:45.501Z,\"1991-03-09\",\"11:42\",...                                                                                                            \n",
       "...                                                  ...                                                                                                            \n",
       "17995  2019-01-18T14:41:45.346Z,\"2019-01-14\",\"07:25\",...                                                                                                            \n",
       "17996  2016-09-20T23:24:30.488Z,\"2016-09-14\",\"13:27\",...                                                                                                            \n",
       "17997  1977-03-10T13:48:27.305Z,\"1977-03-06\",\"21:59\",...                                                                                                            \n",
       "17998  1971-07-23T13:22:36.190Z,\"1971-07-18\",\"13:59\",...                                                                                                            \n",
       "17999  2008-11-28T02:19:45.532Z,\"2008-11-27\",\"15:37\",...                                                                                                            \n",
       "\n",
       "[18000 rows x 1 columns]"
      ]
     },
     "execution_count": 109,
     "metadata": {},
     "output_type": "execute_result"
    }
   ],
   "source": [
    "df"
   ]
  },
  {
   "cell_type": "code",
   "execution_count": 110,
   "metadata": {},
   "outputs": [
    {
     "data": {
      "text/plain": [
       "Index(['Reportedtimestamp,eventdate,eventtime,shape,duration,witnesses,weather,firstname,lastname,latitude,longitude,sighting,physicalevidence,contact,researchoutcome'], dtype='object')"
      ]
     },
     "execution_count": 110,
     "metadata": {},
     "output_type": "execute_result"
    }
   ],
   "source": [
    "df.columns"
   ]
  },
  {
   "cell_type": "code",
   "execution_count": 111,
   "metadata": {},
   "outputs": [],
   "source": [
    "df['Reportedtimestamp,eventdate,eventtime,shape,duration,witnesses,weather,firstname,lastname,latitude,longitude,sighting,physicalevidence,contact,researchoutcome'] = df['Reportedtimestamp,eventdate,eventtime,shape,duration,witnesses,weather,firstname,lastname,latitude,longitude,sighting,physicalevidence,contact,researchoutcome'].apply(lambda x: x.replace('\"',\"\") if type (x) == str else str (x))"
   ]
  },
  {
   "cell_type": "code",
   "execution_count": 112,
   "metadata": {},
   "outputs": [
    {
     "data": {
      "text/html": [
       "<div>\n",
       "<style scoped>\n",
       "    .dataframe tbody tr th:only-of-type {\n",
       "        vertical-align: middle;\n",
       "    }\n",
       "\n",
       "    .dataframe tbody tr th {\n",
       "        vertical-align: top;\n",
       "    }\n",
       "\n",
       "    .dataframe thead th {\n",
       "        text-align: right;\n",
       "    }\n",
       "</style>\n",
       "<table border=\"1\" class=\"dataframe\">\n",
       "  <thead>\n",
       "    <tr style=\"text-align: right;\">\n",
       "      <th></th>\n",
       "      <th>Reportedtimestamp,eventdate,eventtime,shape,duration,witnesses,weather,firstname,lastname,latitude,longitude,sighting,physicalevidence,contact,researchoutcome</th>\n",
       "    </tr>\n",
       "  </thead>\n",
       "  <tbody>\n",
       "    <tr>\n",
       "      <th>0</th>\n",
       "      <td>1977-04-04T04:02:23.340Z,1977-03-31,23:46,circ...</td>\n",
       "    </tr>\n",
       "    <tr>\n",
       "      <th>1</th>\n",
       "      <td>1982-11-22T02:06:32.019Z,1982-11-15,22:04,disk...</td>\n",
       "    </tr>\n",
       "    <tr>\n",
       "      <th>2</th>\n",
       "      <td>1992-12-07T19:06:52.482Z,1992-12-07,19:01,circ...</td>\n",
       "    </tr>\n",
       "    <tr>\n",
       "      <th>3</th>\n",
       "      <td>2011-02-24T21:06:34.898Z,2011-02-21,20:56,disk...</td>\n",
       "    </tr>\n",
       "    <tr>\n",
       "      <th>4</th>\n",
       "      <td>1991-03-09T16:18:45.501Z,1991-03-09,11:42,circ...</td>\n",
       "    </tr>\n",
       "    <tr>\n",
       "      <th>...</th>\n",
       "      <td>...</td>\n",
       "    </tr>\n",
       "    <tr>\n",
       "      <th>17995</th>\n",
       "      <td>2019-01-18T14:41:45.346Z,2019-01-14,07:25,squa...</td>\n",
       "    </tr>\n",
       "    <tr>\n",
       "      <th>17996</th>\n",
       "      <td>2016-09-20T23:24:30.488Z,2016-09-14,13:27,circ...</td>\n",
       "    </tr>\n",
       "    <tr>\n",
       "      <th>17997</th>\n",
       "      <td>1977-03-10T13:48:27.305Z,1977-03-06,21:59,circ...</td>\n",
       "    </tr>\n",
       "    <tr>\n",
       "      <th>17998</th>\n",
       "      <td>1971-07-23T13:22:36.190Z,1971-07-18,13:59,squa...</td>\n",
       "    </tr>\n",
       "    <tr>\n",
       "      <th>17999</th>\n",
       "      <td>2008-11-28T02:19:45.532Z,2008-11-27,15:37,circ...</td>\n",
       "    </tr>\n",
       "  </tbody>\n",
       "</table>\n",
       "<p>18000 rows × 1 columns</p>\n",
       "</div>"
      ],
      "text/plain": [
       "      Reportedtimestamp,eventdate,eventtime,shape,duration,witnesses,weather,firstname,lastname,latitude,longitude,sighting,physicalevidence,contact,researchoutcome\n",
       "0      1977-04-04T04:02:23.340Z,1977-03-31,23:46,circ...                                                                                                            \n",
       "1      1982-11-22T02:06:32.019Z,1982-11-15,22:04,disk...                                                                                                            \n",
       "2      1992-12-07T19:06:52.482Z,1992-12-07,19:01,circ...                                                                                                            \n",
       "3      2011-02-24T21:06:34.898Z,2011-02-21,20:56,disk...                                                                                                            \n",
       "4      1991-03-09T16:18:45.501Z,1991-03-09,11:42,circ...                                                                                                            \n",
       "...                                                  ...                                                                                                            \n",
       "17995  2019-01-18T14:41:45.346Z,2019-01-14,07:25,squa...                                                                                                            \n",
       "17996  2016-09-20T23:24:30.488Z,2016-09-14,13:27,circ...                                                                                                            \n",
       "17997  1977-03-10T13:48:27.305Z,1977-03-06,21:59,circ...                                                                                                            \n",
       "17998  1971-07-23T13:22:36.190Z,1971-07-18,13:59,squa...                                                                                                            \n",
       "17999  2008-11-28T02:19:45.532Z,2008-11-27,15:37,circ...                                                                                                            \n",
       "\n",
       "[18000 rows x 1 columns]"
      ]
     },
     "execution_count": 112,
     "metadata": {},
     "output_type": "execute_result"
    }
   ],
   "source": [
    "df"
   ]
  },
  {
   "cell_type": "code",
   "execution_count": 114,
   "metadata": {},
   "outputs": [],
   "source": [
    "df.to_csv(\"ufo_cleaned.csv\")"
   ]
  }
 ],
 "metadata": {
  "kernelspec": {
   "display_name": "Python 3.9.7 ('base')",
   "language": "python",
   "name": "python3"
  },
  "language_info": {
   "codemirror_mode": {
    "name": "ipython",
    "version": 3
   },
   "file_extension": ".py",
   "mimetype": "text/x-python",
   "name": "python",
   "nbconvert_exporter": "python",
   "pygments_lexer": "ipython3",
   "version": "3.9.7"
  },
  "orig_nbformat": 4,
  "vscode": {
   "interpreter": {
    "hash": "651c3b7b3f466eb030aa737f279c846be4db9cba49a2f229278cab5e41121ed5"
   }
  }
 },
 "nbformat": 4,
 "nbformat_minor": 2
}
